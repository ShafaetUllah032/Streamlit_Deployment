{
 "cells": [
  {
   "cell_type": "markdown",
   "metadata": {},
   "source": [
    "# <span style = \"color : red\"> <h2 style=\"text-align: center;\"> Data Preparation and Experiments</h2> </span>\n",
    " <h3 style=\"text-align: center;\"> Let's GO </h3>"
   ]
  },
  {
   "cell_type": "code",
   "execution_count": 19,
   "metadata": {},
   "outputs": [],
   "source": [
    "# %pip install pathlib"
   ]
  },
  {
   "cell_type": "code",
   "execution_count": 20,
   "metadata": {},
   "outputs": [],
   "source": [
    "import numpy as np\n",
    "import pandas as pd\n",
    "from pathlib import Path\n",
    "import requests"
   ]
  },
  {
   "cell_type": "code",
   "execution_count": 21,
   "metadata": {},
   "outputs": [],
   "source": [
    "data=[\n",
    "    [2018,10,15,20],\n",
    "    [2019,12,15,22],\n",
    "    [2020,14,32,25],\n",
    "    [2021,16,37,28],\n",
    "    [2022,19,15,30]\n",
    "\n",
    "]\n",
    "simple_data=pd.DataFrame(data,columns=['year','col1','col2','col3'])"
   ]
  },
  {
   "cell_type": "code",
   "execution_count": 22,
   "metadata": {},
   "outputs": [
    {
     "data": {
      "text/html": [
       "<div>\n",
       "<style scoped>\n",
       "    .dataframe tbody tr th:only-of-type {\n",
       "        vertical-align: middle;\n",
       "    }\n",
       "\n",
       "    .dataframe tbody tr th {\n",
       "        vertical-align: top;\n",
       "    }\n",
       "\n",
       "    .dataframe thead th {\n",
       "        text-align: right;\n",
       "    }\n",
       "</style>\n",
       "<table border=\"1\" class=\"dataframe\">\n",
       "  <thead>\n",
       "    <tr style=\"text-align: right;\">\n",
       "      <th></th>\n",
       "      <th>year</th>\n",
       "      <th>col1</th>\n",
       "      <th>col2</th>\n",
       "      <th>col3</th>\n",
       "    </tr>\n",
       "  </thead>\n",
       "  <tbody>\n",
       "    <tr>\n",
       "      <th>0</th>\n",
       "      <td>2018</td>\n",
       "      <td>10</td>\n",
       "      <td>15</td>\n",
       "      <td>20</td>\n",
       "    </tr>\n",
       "    <tr>\n",
       "      <th>1</th>\n",
       "      <td>2019</td>\n",
       "      <td>12</td>\n",
       "      <td>15</td>\n",
       "      <td>22</td>\n",
       "    </tr>\n",
       "    <tr>\n",
       "      <th>2</th>\n",
       "      <td>2020</td>\n",
       "      <td>14</td>\n",
       "      <td>32</td>\n",
       "      <td>25</td>\n",
       "    </tr>\n",
       "    <tr>\n",
       "      <th>3</th>\n",
       "      <td>2021</td>\n",
       "      <td>16</td>\n",
       "      <td>37</td>\n",
       "      <td>28</td>\n",
       "    </tr>\n",
       "    <tr>\n",
       "      <th>4</th>\n",
       "      <td>2022</td>\n",
       "      <td>19</td>\n",
       "      <td>15</td>\n",
       "      <td>30</td>\n",
       "    </tr>\n",
       "  </tbody>\n",
       "</table>\n",
       "</div>"
      ],
      "text/plain": [
       "   year  col1  col2  col3\n",
       "0  2018    10    15    20\n",
       "1  2019    12    15    22\n",
       "2  2020    14    32    25\n",
       "3  2021    16    37    28\n",
       "4  2022    19    15    30"
      ]
     },
     "execution_count": 22,
     "metadata": {},
     "output_type": "execute_result"
    }
   ],
   "source": [
    "simple_data"
   ]
  },
  {
   "cell_type": "code",
   "execution_count": 23,
   "metadata": {},
   "outputs": [
    {
     "name": "stdout",
     "output_type": "stream",
     "text": [
      "path exist , skipping making.... \n"
     ]
    }
   ],
   "source": [
    "data_dir=Path(\"data\")\n",
    "\n",
    "if data_dir.is_dir():\n",
    "    print(\"path exist , skipping making.... \")\n",
    "\n",
    "else:\n",
    "    data_dir.mkdir(parents=True,\n",
    "                   exist_ok=True)\n",
    "    print(\"directory is made\")"
   ]
  },
  {
   "cell_type": "code",
   "execution_count": 24,
   "metadata": {},
   "outputs": [
    {
     "name": "stdout",
     "output_type": "stream",
     "text": [
      "file exist, skip creating.....\n"
     ]
    }
   ],
   "source": [
    "if Path(data_dir/'sample.csv').exists():\n",
    "    print(\"file exist, skip creating.....\")\n",
    "else:\n",
    "    simple_data.to_csv(data_dir/'sample.csv',index=False)\n",
    "    "
   ]
  },
  {
   "cell_type": "code",
   "execution_count": 25,
   "metadata": {},
   "outputs": [],
   "source": [
    "sample_map=pd.DataFrame(\n",
    "   { 'Location': ['Dhaka', 'Chittagong', 'Cox\\'s Bazar', 'Sylhet', 'Sundarbans'],\n",
    "    'Latitude': [23.8103, 22.3569, 21.4272, 24.8949, 21.9497],\n",
    "    'Longitude': [90.4125, 91.7832, 92.0058, 91.8687, 89.1833]}\n",
    ")"
   ]
  },
  {
   "cell_type": "code",
   "execution_count": 26,
   "metadata": {},
   "outputs": [
    {
     "name": "stdout",
     "output_type": "stream",
     "text": [
      "file exist, skip creating.....\n"
     ]
    }
   ],
   "source": [
    "if Path(data_dir/'sample.csv').is_file():\n",
    "    print(\"file exist, skip creating.....\")\n",
    "else:\n",
    "    sample_map.to_csv(data_dir/'sample_map.csv',index=False)"
   ]
  },
  {
   "cell_type": "code",
   "execution_count": 27,
   "metadata": {},
   "outputs": [],
   "source": [
    "url=\"https://raw.githubusercontent.com/marcopeix/MachineLearningModelDeploymentwithStreamlit/master/12_dashboard_capstone/data/quarterly_canada_population.csv\""
   ]
  },
  {
   "cell_type": "code",
   "execution_count": 28,
   "metadata": {},
   "outputs": [
    {
     "name": "stdout",
     "output_type": "stream",
     "text": [
      "File exist already .......\n"
     ]
    }
   ],
   "source": [
    "# creating file \n",
    "\n",
    "if (Path(data_dir/'c_people.csv')).exists():\n",
    "    print(\"File exist already .......\")\n",
    "else:\n",
    "    with open(data_dir/'c_people.csv',\"wb\") as f:\n",
    "        request=requests.get(\"https://raw.githubusercontent.com/marcopeix/MachineLearningModelDeploymentwithStreamlit/master/12_dashboard_capstone/data/quarterly_canada_population.csv\")\n",
    "        f.write(request.content)\n",
    "        print(f\"File created ........ \")"
   ]
  },
  {
   "cell_type": "markdown",
   "metadata": {},
   "source": [
    "##  Transforming data for capstone project"
   ]
  },
  {
   "cell_type": "code",
   "execution_count": 29,
   "metadata": {},
   "outputs": [
    {
     "data": {
      "text/html": [
       "<div>\n",
       "<style scoped>\n",
       "    .dataframe tbody tr th:only-of-type {\n",
       "        vertical-align: middle;\n",
       "    }\n",
       "\n",
       "    .dataframe tbody tr th {\n",
       "        vertical-align: top;\n",
       "    }\n",
       "\n",
       "    .dataframe thead th {\n",
       "        text-align: right;\n",
       "    }\n",
       "</style>\n",
       "<table border=\"1\" class=\"dataframe\">\n",
       "  <thead>\n",
       "    <tr style=\"text-align: right;\">\n",
       "      <th></th>\n",
       "      <th>Quarter</th>\n",
       "      <th>Canada</th>\n",
       "      <th>Newfoundland and Labrador</th>\n",
       "      <th>Prince Edward Island</th>\n",
       "      <th>Nova Scotia</th>\n",
       "      <th>New Brunswick</th>\n",
       "      <th>Quebec</th>\n",
       "      <th>Ontario</th>\n",
       "      <th>Manitoba</th>\n",
       "      <th>Saskatchewan</th>\n",
       "      <th>Alberta</th>\n",
       "      <th>British Columbia</th>\n",
       "      <th>Yukon</th>\n",
       "      <th>Northwest Territories</th>\n",
       "      <th>Nunavut</th>\n",
       "    </tr>\n",
       "  </thead>\n",
       "  <tbody>\n",
       "    <tr>\n",
       "      <th>54</th>\n",
       "      <td>Q1 2005</td>\n",
       "      <td>32076720</td>\n",
       "      <td>516794</td>\n",
       "      <td>137689</td>\n",
       "      <td>939215</td>\n",
       "      <td>749002</td>\n",
       "      <td>7559625</td>\n",
       "      <td>12446466</td>\n",
       "      <td>1176051</td>\n",
       "      <td>995900</td>\n",
       "      <td>3276797</td>\n",
       "      <td>4174018</td>\n",
       "      <td>31771</td>\n",
       "      <td>43442</td>\n",
       "      <td>29950</td>\n",
       "    </tr>\n",
       "    <tr>\n",
       "      <th>45</th>\n",
       "      <td>Q4 2002</td>\n",
       "      <td>31451764</td>\n",
       "      <td>519458</td>\n",
       "      <td>137078</td>\n",
       "      <td>935968</td>\n",
       "      <td>749408</td>\n",
       "      <td>7455892</td>\n",
       "      <td>12146053</td>\n",
       "      <td>1157298</td>\n",
       "      <td>996279</td>\n",
       "      <td>3144926</td>\n",
       "      <td>4108400</td>\n",
       "      <td>30266</td>\n",
       "      <td>41874</td>\n",
       "      <td>28864</td>\n",
       "    </tr>\n",
       "    <tr>\n",
       "      <th>15</th>\n",
       "      <td>Q2 1995</td>\n",
       "      <td>29211541</td>\n",
       "      <td>569068</td>\n",
       "      <td>134175</td>\n",
       "      <td>927641</td>\n",
       "      <td>750692</td>\n",
       "      <td>7210305</td>\n",
       "      <td>10906895</td>\n",
       "      <td>1127234</td>\n",
       "      <td>1012795</td>\n",
       "      <td>2724946</td>\n",
       "      <td>3751377</td>\n",
       "      <td>30143</td>\n",
       "      <td>41407</td>\n",
       "      <td>24863</td>\n",
       "    </tr>\n",
       "    <tr>\n",
       "      <th>100</th>\n",
       "      <td>Q3 2016</td>\n",
       "      <td>36109487</td>\n",
       "      <td>529426</td>\n",
       "      <td>146969</td>\n",
       "      <td>942790</td>\n",
       "      <td>763350</td>\n",
       "      <td>8225950</td>\n",
       "      <td>13875394</td>\n",
       "      <td>1314139</td>\n",
       "      <td>1135987</td>\n",
       "      <td>4196061</td>\n",
       "      <td>4859250</td>\n",
       "      <td>38547</td>\n",
       "      <td>44649</td>\n",
       "      <td>36975</td>\n",
       "    </tr>\n",
       "    <tr>\n",
       "      <th>83</th>\n",
       "      <td>Q2 2012</td>\n",
       "      <td>34592779</td>\n",
       "      <td>525655</td>\n",
       "      <td>144472</td>\n",
       "      <td>943746</td>\n",
       "      <td>757270</td>\n",
       "      <td>8039492</td>\n",
       "      <td>13348263</td>\n",
       "      <td>1245692</td>\n",
       "      <td>1077892</td>\n",
       "      <td>3847722</td>\n",
       "      <td>4548438</td>\n",
       "      <td>35843</td>\n",
       "      <td>43701</td>\n",
       "      <td>34593</td>\n",
       "    </tr>\n",
       "  </tbody>\n",
       "</table>\n",
       "</div>"
      ],
      "text/plain": [
       "     Quarter    Canada  Newfoundland and Labrador  Prince Edward Island  \\\n",
       "54   Q1 2005  32076720                     516794                137689   \n",
       "45   Q4 2002  31451764                     519458                137078   \n",
       "15   Q2 1995  29211541                     569068                134175   \n",
       "100  Q3 2016  36109487                     529426                146969   \n",
       "83   Q2 2012  34592779                     525655                144472   \n",
       "\n",
       "     Nova Scotia  New Brunswick   Quebec   Ontario  Manitoba  Saskatchewan  \\\n",
       "54        939215         749002  7559625  12446466   1176051        995900   \n",
       "45        935968         749408  7455892  12146053   1157298        996279   \n",
       "15        927641         750692  7210305  10906895   1127234       1012795   \n",
       "100       942790         763350  8225950  13875394   1314139       1135987   \n",
       "83        943746         757270  8039492  13348263   1245692       1077892   \n",
       "\n",
       "     Alberta  British Columbia  Yukon  Northwest Territories  Nunavut  \n",
       "54   3276797           4174018  31771                  43442    29950  \n",
       "45   3144926           4108400  30266                  41874    28864  \n",
       "15   2724946           3751377  30143                  41407    24863  \n",
       "100  4196061           4859250  38547                  44649    36975  \n",
       "83   3847722           4548438  35843                  43701    34593  "
      ]
     },
     "execution_count": 29,
     "metadata": {},
     "output_type": "execute_result"
    }
   ],
   "source": [
    "\n",
    "df=pd.read_csv(\"../NOTEBOOK/data/c_people.csv\")\n",
    "df.sample(5)"
   ]
  },
  {
   "cell_type": "code",
   "execution_count": 30,
   "metadata": {},
   "outputs": [
    {
     "data": {
      "text/plain": [
       "(['Q3', 'Q2', 'Q4', 'Q1'], ['1991', '1991', '1992', '1992'])"
      ]
     },
     "execution_count": 30,
     "metadata": {},
     "output_type": "execute_result"
    }
   ],
   "source": [
    "col_data=df['Quarter'][:]\n",
    "# col_data=list(col_data)\n",
    "\n",
    "year=list()\n",
    "quarter=set()\n",
    "\n",
    "for d in col_data:\n",
    "    year.append(d[3:])\n",
    "    quarter.add(d[:2])\n",
    "\n",
    "quarter=list(quarter)\n",
    "\n",
    "quarter,year[:4]"
   ]
  },
  {
   "cell_type": "code",
   "execution_count": 31,
   "metadata": {},
   "outputs": [
    {
     "data": {
      "text/plain": [
       "Index(['Canada', 'Newfoundland and Labrador', 'Prince Edward Island',\n",
       "       'Nova Scotia', 'New Brunswick', 'Quebec', 'Ontario', 'Manitoba',\n",
       "       'Saskatchewan', 'Alberta', 'British Columbia', 'Yukon',\n",
       "       'Northwest Territories', 'Nunavut'],\n",
       "      dtype='object')"
      ]
     },
     "execution_count": 31,
     "metadata": {},
     "output_type": "execute_result"
    }
   ],
   "source": [
    "place=df.columns\n",
    "place=place[1:]\n",
    "place"
   ]
  },
  {
   "cell_type": "code",
   "execution_count": 36,
   "metadata": {},
   "outputs": [],
   "source": [
    "start_date='Q1 2012'\n",
    "target=\"Quebec\""
   ]
  },
  {
   "cell_type": "code",
   "execution_count": 38,
   "metadata": {},
   "outputs": [
    {
     "data": {
      "text/plain": [
       "8029498"
      ]
     },
     "execution_count": 38,
     "metadata": {},
     "output_type": "execute_result"
    }
   ],
   "source": [
    "df.loc[df['Quarter']==start_date,target].item()"
   ]
  },
  {
   "cell_type": "code",
   "execution_count": null,
   "metadata": {},
   "outputs": [],
   "source": []
  }
 ],
 "metadata": {
  "kernelspec": {
   "display_name": "streamDev",
   "language": "python",
   "name": "python3"
  },
  "language_info": {
   "codemirror_mode": {
    "name": "ipython",
    "version": 3
   },
   "file_extension": ".py",
   "mimetype": "text/x-python",
   "name": "python",
   "nbconvert_exporter": "python",
   "pygments_lexer": "ipython3",
   "version": "3.10.14"
  }
 },
 "nbformat": 4,
 "nbformat_minor": 2
}
