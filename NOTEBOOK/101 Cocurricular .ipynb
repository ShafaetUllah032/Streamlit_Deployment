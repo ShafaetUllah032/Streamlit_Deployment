{
 "cells": [
  {
   "cell_type": "markdown",
   "metadata": {},
   "source": [
    "# <span style = \"color : red\"> <h2 style=\"text-align: center;\"> Data Preparation and Experiments</h2> </span>\n",
    " <h3 style=\"text-align: center;\"> Let's GO </h3>"
   ]
  },
  {
   "cell_type": "code",
   "execution_count": 2,
   "metadata": {},
   "outputs": [],
   "source": [
    "# %pip install pathlib"
   ]
  },
  {
   "cell_type": "code",
   "execution_count": 3,
   "metadata": {},
   "outputs": [],
   "source": [
    "import numpy as np\n",
    "import pandas as pd\n",
    "from pathlib import Path\n",
    "import requests"
   ]
  },
  {
   "cell_type": "code",
   "execution_count": 4,
   "metadata": {},
   "outputs": [],
   "source": [
    "data=[\n",
    "    [2018,10,15,20],\n",
    "    [2019,12,15,22],\n",
    "    [2020,14,32,25],\n",
    "    [2021,16,37,28],\n",
    "    [2022,19,15,30]\n",
    "\n",
    "]\n",
    "simple_data=pd.DataFrame(data,columns=['year','col1','col2','col3'])"
   ]
  },
  {
   "cell_type": "code",
   "execution_count": 5,
   "metadata": {},
   "outputs": [
    {
     "data": {
      "text/html": [
       "<div>\n",
       "<style scoped>\n",
       "    .dataframe tbody tr th:only-of-type {\n",
       "        vertical-align: middle;\n",
       "    }\n",
       "\n",
       "    .dataframe tbody tr th {\n",
       "        vertical-align: top;\n",
       "    }\n",
       "\n",
       "    .dataframe thead th {\n",
       "        text-align: right;\n",
       "    }\n",
       "</style>\n",
       "<table border=\"1\" class=\"dataframe\">\n",
       "  <thead>\n",
       "    <tr style=\"text-align: right;\">\n",
       "      <th></th>\n",
       "      <th>year</th>\n",
       "      <th>col1</th>\n",
       "      <th>col2</th>\n",
       "      <th>col3</th>\n",
       "    </tr>\n",
       "  </thead>\n",
       "  <tbody>\n",
       "    <tr>\n",
       "      <th>0</th>\n",
       "      <td>2018</td>\n",
       "      <td>10</td>\n",
       "      <td>15</td>\n",
       "      <td>20</td>\n",
       "    </tr>\n",
       "    <tr>\n",
       "      <th>1</th>\n",
       "      <td>2019</td>\n",
       "      <td>12</td>\n",
       "      <td>15</td>\n",
       "      <td>22</td>\n",
       "    </tr>\n",
       "    <tr>\n",
       "      <th>2</th>\n",
       "      <td>2020</td>\n",
       "      <td>14</td>\n",
       "      <td>32</td>\n",
       "      <td>25</td>\n",
       "    </tr>\n",
       "    <tr>\n",
       "      <th>3</th>\n",
       "      <td>2021</td>\n",
       "      <td>16</td>\n",
       "      <td>37</td>\n",
       "      <td>28</td>\n",
       "    </tr>\n",
       "    <tr>\n",
       "      <th>4</th>\n",
       "      <td>2022</td>\n",
       "      <td>19</td>\n",
       "      <td>15</td>\n",
       "      <td>30</td>\n",
       "    </tr>\n",
       "  </tbody>\n",
       "</table>\n",
       "</div>"
      ],
      "text/plain": [
       "   year  col1  col2  col3\n",
       "0  2018    10    15    20\n",
       "1  2019    12    15    22\n",
       "2  2020    14    32    25\n",
       "3  2021    16    37    28\n",
       "4  2022    19    15    30"
      ]
     },
     "execution_count": 5,
     "metadata": {},
     "output_type": "execute_result"
    }
   ],
   "source": [
    "simple_data"
   ]
  },
  {
   "cell_type": "code",
   "execution_count": 6,
   "metadata": {},
   "outputs": [
    {
     "name": "stdout",
     "output_type": "stream",
     "text": [
      "path exist , skipping making.... \n"
     ]
    }
   ],
   "source": [
    "data_dir=Path(\"data\")\n",
    "\n",
    "if data_dir.is_dir():\n",
    "    print(\"path exist , skipping making.... \")\n",
    "\n",
    "else:\n",
    "    data_dir.mkdir(parents=True,\n",
    "                   exist_ok=True)\n",
    "    print(\"directory is made\")"
   ]
  },
  {
   "cell_type": "code",
   "execution_count": 7,
   "metadata": {},
   "outputs": [
    {
     "name": "stdout",
     "output_type": "stream",
     "text": [
      "file exist, skip creating.....\n"
     ]
    }
   ],
   "source": [
    "if Path(data_dir/'sample.csv').exists():\n",
    "    print(\"file exist, skip creating.....\")\n",
    "else:\n",
    "    simple_data.to_csv(data_dir/'sample.csv',index=False)\n",
    "    "
   ]
  },
  {
   "cell_type": "code",
   "execution_count": 8,
   "metadata": {},
   "outputs": [],
   "source": [
    "sample_map=pd.DataFrame(\n",
    "   { 'Location': ['Dhaka', 'Chittagong', 'Cox\\'s Bazar', 'Sylhet', 'Sundarbans'],\n",
    "    'Latitude': [23.8103, 22.3569, 21.4272, 24.8949, 21.9497],\n",
    "    'Longitude': [90.4125, 91.7832, 92.0058, 91.8687, 89.1833]}\n",
    ")"
   ]
  },
  {
   "cell_type": "code",
   "execution_count": 9,
   "metadata": {},
   "outputs": [
    {
     "name": "stdout",
     "output_type": "stream",
     "text": [
      "file exist, skip creating.....\n"
     ]
    }
   ],
   "source": [
    "if Path(data_dir/'sample.csv').is_file():\n",
    "    print(\"file exist, skip creating.....\")\n",
    "else:\n",
    "    sample_map.to_csv(data_dir/'sample_map.csv',index=False)"
   ]
  },
  {
   "cell_type": "code",
   "execution_count": 10,
   "metadata": {},
   "outputs": [],
   "source": [
    "url=\"https://raw.githubusercontent.com/marcopeix/MachineLearningModelDeploymentwithStreamlit/master/12_dashboard_capstone/data/quarterly_canada_population.csv\""
   ]
  },
  {
   "cell_type": "code",
   "execution_count": 11,
   "metadata": {},
   "outputs": [
    {
     "name": "stdout",
     "output_type": "stream",
     "text": [
      "File exist already .......\n"
     ]
    }
   ],
   "source": [
    "# creating file for capstone project canada populations\n",
    "\n",
    "if (Path(data_dir/'c_people.csv')).exists():\n",
    "    print(\"File exist already .......\")\n",
    "else:\n",
    "    with open(data_dir/'c_people.csv',\"wb\") as f:\n",
    "        request=requests.get(\"https://raw.githubusercontent.com/marcopeix/MachineLearningModelDeploymentwithStreamlit/master/12_dashboard_capstone/data/quarterly_canada_population.csv\")\n",
    "        f.write(request.content)\n",
    "        print(f\"File created ........ \")"
   ]
  },
  {
   "cell_type": "markdown",
   "metadata": {},
   "source": [
    "##  Transforming data for capstone project"
   ]
  },
  {
   "cell_type": "code",
   "execution_count": 12,
   "metadata": {},
   "outputs": [
    {
     "data": {
      "text/html": [
       "<div>\n",
       "<style scoped>\n",
       "    .dataframe tbody tr th:only-of-type {\n",
       "        vertical-align: middle;\n",
       "    }\n",
       "\n",
       "    .dataframe tbody tr th {\n",
       "        vertical-align: top;\n",
       "    }\n",
       "\n",
       "    .dataframe thead th {\n",
       "        text-align: right;\n",
       "    }\n",
       "</style>\n",
       "<table border=\"1\" class=\"dataframe\">\n",
       "  <thead>\n",
       "    <tr style=\"text-align: right;\">\n",
       "      <th></th>\n",
       "      <th>Quarter</th>\n",
       "      <th>Canada</th>\n",
       "      <th>Newfoundland and Labrador</th>\n",
       "      <th>Prince Edward Island</th>\n",
       "      <th>Nova Scotia</th>\n",
       "      <th>New Brunswick</th>\n",
       "      <th>Quebec</th>\n",
       "      <th>Ontario</th>\n",
       "      <th>Manitoba</th>\n",
       "      <th>Saskatchewan</th>\n",
       "      <th>Alberta</th>\n",
       "      <th>British Columbia</th>\n",
       "      <th>Yukon</th>\n",
       "      <th>Northwest Territories</th>\n",
       "      <th>Nunavut</th>\n",
       "    </tr>\n",
       "  </thead>\n",
       "  <tbody>\n",
       "    <tr>\n",
       "      <th>123</th>\n",
       "      <td>Q2 2022</td>\n",
       "      <td>38644920</td>\n",
       "      <td>523043</td>\n",
       "      <td>168358</td>\n",
       "      <td>1007360</td>\n",
       "      <td>802862</td>\n",
       "      <td>8650692</td>\n",
       "      <td>14996014</td>\n",
       "      <td>1401967</td>\n",
       "      <td>1188338</td>\n",
       "      <td>4502858</td>\n",
       "      <td>5273809</td>\n",
       "      <td>43518</td>\n",
       "      <td>45698</td>\n",
       "      <td>40403</td>\n",
       "    </tr>\n",
       "    <tr>\n",
       "      <th>11</th>\n",
       "      <td>Q2 1994</td>\n",
       "      <td>28907448</td>\n",
       "      <td>575670</td>\n",
       "      <td>133030</td>\n",
       "      <td>926109</td>\n",
       "      <td>749473</td>\n",
       "      <td>7184599</td>\n",
       "      <td>10776819</td>\n",
       "      <td>1120863</td>\n",
       "      <td>1008540</td>\n",
       "      <td>2691443</td>\n",
       "      <td>3646632</td>\n",
       "      <td>29682</td>\n",
       "      <td>40383</td>\n",
       "      <td>24205</td>\n",
       "    </tr>\n",
       "    <tr>\n",
       "      <th>85</th>\n",
       "      <td>Q4 2012</td>\n",
       "      <td>34836008</td>\n",
       "      <td>527180</td>\n",
       "      <td>144520</td>\n",
       "      <td>943341</td>\n",
       "      <td>758673</td>\n",
       "      <td>8078388</td>\n",
       "      <td>13434943</td>\n",
       "      <td>1254178</td>\n",
       "      <td>1088959</td>\n",
       "      <td>3900333</td>\n",
       "      <td>4590545</td>\n",
       "      <td>36425</td>\n",
       "      <td>43681</td>\n",
       "      <td>34842</td>\n",
       "    </tr>\n",
       "    <tr>\n",
       "      <th>103</th>\n",
       "      <td>Q2 2017</td>\n",
       "      <td>36398013</td>\n",
       "      <td>528544</td>\n",
       "      <td>148860</td>\n",
       "      <td>947384</td>\n",
       "      <td>764813</td>\n",
       "      <td>8272894</td>\n",
       "      <td>14006386</td>\n",
       "      <td>1328412</td>\n",
       "      <td>1146218</td>\n",
       "      <td>4227969</td>\n",
       "      <td>4905210</td>\n",
       "      <td>39175</td>\n",
       "      <td>44813</td>\n",
       "      <td>37335</td>\n",
       "    </tr>\n",
       "    <tr>\n",
       "      <th>96</th>\n",
       "      <td>Q3 2015</td>\n",
       "      <td>35702908</td>\n",
       "      <td>528117</td>\n",
       "      <td>144546</td>\n",
       "      <td>936525</td>\n",
       "      <td>758842</td>\n",
       "      <td>8175272</td>\n",
       "      <td>13707118</td>\n",
       "      <td>1292227</td>\n",
       "      <td>1120967</td>\n",
       "      <td>4144491</td>\n",
       "      <td>4776388</td>\n",
       "      <td>37690</td>\n",
       "      <td>44237</td>\n",
       "      <td>36488</td>\n",
       "    </tr>\n",
       "  </tbody>\n",
       "</table>\n",
       "</div>"
      ],
      "text/plain": [
       "     Quarter    Canada  Newfoundland and Labrador  Prince Edward Island  \\\n",
       "123  Q2 2022  38644920                     523043                168358   \n",
       "11   Q2 1994  28907448                     575670                133030   \n",
       "85   Q4 2012  34836008                     527180                144520   \n",
       "103  Q2 2017  36398013                     528544                148860   \n",
       "96   Q3 2015  35702908                     528117                144546   \n",
       "\n",
       "     Nova Scotia  New Brunswick   Quebec   Ontario  Manitoba  Saskatchewan  \\\n",
       "123      1007360         802862  8650692  14996014   1401967       1188338   \n",
       "11        926109         749473  7184599  10776819   1120863       1008540   \n",
       "85        943341         758673  8078388  13434943   1254178       1088959   \n",
       "103       947384         764813  8272894  14006386   1328412       1146218   \n",
       "96        936525         758842  8175272  13707118   1292227       1120967   \n",
       "\n",
       "     Alberta  British Columbia  Yukon  Northwest Territories  Nunavut  \n",
       "123  4502858           5273809  43518                  45698    40403  \n",
       "11   2691443           3646632  29682                  40383    24205  \n",
       "85   3900333           4590545  36425                  43681    34842  \n",
       "103  4227969           4905210  39175                  44813    37335  \n",
       "96   4144491           4776388  37690                  44237    36488  "
      ]
     },
     "execution_count": 12,
     "metadata": {},
     "output_type": "execute_result"
    }
   ],
   "source": [
    "\n",
    "df=pd.read_csv(\"../NOTEBOOK/data/c_people.csv\")\n",
    "df.sample(5)"
   ]
  },
  {
   "cell_type": "code",
   "execution_count": 13,
   "metadata": {},
   "outputs": [
    {
     "data": {
      "text/plain": [
       "(['Q1', 'Q2', 'Q4', 'Q3'], ['1991', '1991', '1992', '1992'])"
      ]
     },
     "execution_count": 13,
     "metadata": {},
     "output_type": "execute_result"
    }
   ],
   "source": [
    "col_data=df['Quarter'][:]\n",
    "# col_data=list(col_data)\n",
    "\n",
    "year=list()\n",
    "quarter=set()\n",
    "\n",
    "for d in col_data:\n",
    "    year.append(d[3:])\n",
    "    quarter.add(d[:2])\n",
    "\n",
    "quarter=list(quarter)\n",
    "\n",
    "quarter,year[:4]"
   ]
  },
  {
   "cell_type": "code",
   "execution_count": 14,
   "metadata": {},
   "outputs": [
    {
     "data": {
      "text/plain": [
       "Index(['Canada', 'Newfoundland and Labrador', 'Prince Edward Island',\n",
       "       'Nova Scotia', 'New Brunswick', 'Quebec', 'Ontario', 'Manitoba',\n",
       "       'Saskatchewan', 'Alberta', 'British Columbia', 'Yukon',\n",
       "       'Northwest Territories', 'Nunavut'],\n",
       "      dtype='object')"
      ]
     },
     "execution_count": 14,
     "metadata": {},
     "output_type": "execute_result"
    }
   ],
   "source": [
    "place=df.columns\n",
    "place=place[1:]\n",
    "place"
   ]
  },
  {
   "cell_type": "code",
   "execution_count": 15,
   "metadata": {},
   "outputs": [],
   "source": [
    "start_date='Q1 2012'\n",
    "target=\"Quebec\""
   ]
  },
  {
   "cell_type": "code",
   "execution_count": 16,
   "metadata": {},
   "outputs": [
    {
     "data": {
      "text/plain": [
       "8029498"
      ]
     },
     "execution_count": 16,
     "metadata": {},
     "output_type": "execute_result"
    }
   ],
   "source": [
    "df.loc[df['Quarter']==start_date,target].item()"
   ]
  },
  {
   "cell_type": "code",
   "execution_count": 17,
   "metadata": {},
   "outputs": [],
   "source": [
    "x=np.arange(2,100,2).reshape(-1,1)\n",
    "\n",
    "y=x*3+2"
   ]
  },
  {
   "cell_type": "code",
   "execution_count": 18,
   "metadata": {},
   "outputs": [
    {
     "data": {
      "text/plain": [
       "array([[ 2],\n",
       "       [ 4],\n",
       "       [ 6],\n",
       "       [ 8],\n",
       "       [10],\n",
       "       [12],\n",
       "       [14],\n",
       "       [16],\n",
       "       [18],\n",
       "       [20],\n",
       "       [22],\n",
       "       [24],\n",
       "       [26],\n",
       "       [28],\n",
       "       [30],\n",
       "       [32],\n",
       "       [34],\n",
       "       [36],\n",
       "       [38],\n",
       "       [40],\n",
       "       [42],\n",
       "       [44],\n",
       "       [46],\n",
       "       [48],\n",
       "       [50],\n",
       "       [52],\n",
       "       [54],\n",
       "       [56],\n",
       "       [58],\n",
       "       [60],\n",
       "       [62],\n",
       "       [64],\n",
       "       [66],\n",
       "       [68],\n",
       "       [70],\n",
       "       [72],\n",
       "       [74],\n",
       "       [76],\n",
       "       [78],\n",
       "       [80],\n",
       "       [82],\n",
       "       [84],\n",
       "       [86],\n",
       "       [88],\n",
       "       [90],\n",
       "       [92],\n",
       "       [94],\n",
       "       [96],\n",
       "       [98]])"
      ]
     },
     "execution_count": 18,
     "metadata": {},
     "output_type": "execute_result"
    }
   ],
   "source": [
    "x"
   ]
  },
  {
   "cell_type": "code",
   "execution_count": 19,
   "metadata": {},
   "outputs": [
    {
     "data": {
      "text/plain": [
       "array([[  8],\n",
       "       [ 14],\n",
       "       [ 20],\n",
       "       [ 26],\n",
       "       [ 32],\n",
       "       [ 38],\n",
       "       [ 44],\n",
       "       [ 50],\n",
       "       [ 56],\n",
       "       [ 62],\n",
       "       [ 68],\n",
       "       [ 74],\n",
       "       [ 80],\n",
       "       [ 86],\n",
       "       [ 92],\n",
       "       [ 98],\n",
       "       [104],\n",
       "       [110],\n",
       "       [116],\n",
       "       [122],\n",
       "       [128],\n",
       "       [134],\n",
       "       [140],\n",
       "       [146],\n",
       "       [152],\n",
       "       [158],\n",
       "       [164],\n",
       "       [170],\n",
       "       [176],\n",
       "       [182],\n",
       "       [188],\n",
       "       [194],\n",
       "       [200],\n",
       "       [206],\n",
       "       [212],\n",
       "       [218],\n",
       "       [224],\n",
       "       [230],\n",
       "       [236],\n",
       "       [242],\n",
       "       [248],\n",
       "       [254],\n",
       "       [260],\n",
       "       [266],\n",
       "       [272],\n",
       "       [278],\n",
       "       [284],\n",
       "       [290],\n",
       "       [296]])"
      ]
     },
     "execution_count": 19,
     "metadata": {},
     "output_type": "execute_result"
    }
   ],
   "source": [
    "y"
   ]
  },
  {
   "cell_type": "code",
   "execution_count": 20,
   "metadata": {},
   "outputs": [],
   "source": [
    "from sklearn.linear_model import LinearRegression\n",
    "\n",
    "model=LinearRegression().fit(x,y)"
   ]
  },
  {
   "cell_type": "code",
   "execution_count": 21,
   "metadata": {},
   "outputs": [
    {
     "data": {
      "text/plain": [
       "array([[ 5.],\n",
       "       [11.],\n",
       "       [17.],\n",
       "       [23.],\n",
       "       [29.],\n",
       "       [35.]])"
      ]
     },
     "execution_count": 21,
     "metadata": {},
     "output_type": "execute_result"
    }
   ],
   "source": [
    "x_pred=np.arange(1,13,2).reshape(-1,1)\n",
    "model.predict(x_pred)"
   ]
  },
  {
   "cell_type": "code",
   "execution_count": 22,
   "metadata": {},
   "outputs": [
    {
     "data": {
      "text/plain": [
       "array([ 1,  3,  5,  7,  9, 11])"
      ]
     },
     "execution_count": 22,
     "metadata": {},
     "output_type": "execute_result"
    }
   ],
   "source": [
    "x_pred.reshape(6)"
   ]
  },
  {
   "cell_type": "code",
   "execution_count": 24,
   "metadata": {},
   "outputs": [
    {
     "name": "stdout",
     "output_type": "stream",
     "text": [
      "mashroom csv file created\n"
     ]
    }
   ],
   "source": [
    "url=\"https://raw.githubusercontent.com/marcopeix/MachineLearningModelDeploymentwithStreamlit/master/19_caching_capstone2/data/mushrooms.csv\"\n",
    "\n",
    "\n",
    "if Path(\"data/mashroom.csv\").is_file():\n",
    "    print(\"file exist , skipping creation\")\n",
    "\n",
    "else:\n",
    "    with open(\"data/mashroom.csv\",\"wb\") as file:\n",
    "        request=requests.get(url)\n",
    "        file.write(request.content)\n",
    "        print(\"mashroom csv file created\")\n"
   ]
  },
  {
   "cell_type": "code",
   "execution_count": 25,
   "metadata": {},
   "outputs": [],
   "source": [
    "mashroom_data_path=\"data/mashroom.csv\""
   ]
  },
  {
   "cell_type": "code",
   "execution_count": null,
   "metadata": {},
   "outputs": [],
   "source": []
  }
 ],
 "metadata": {
  "kernelspec": {
   "display_name": "streamDev",
   "language": "python",
   "name": "python3"
  },
  "language_info": {
   "codemirror_mode": {
    "name": "ipython",
    "version": 3
   },
   "file_extension": ".py",
   "mimetype": "text/x-python",
   "name": "python",
   "nbconvert_exporter": "python",
   "pygments_lexer": "ipython3",
   "version": "3.10.14"
  }
 },
 "nbformat": 4,
 "nbformat_minor": 2
}
