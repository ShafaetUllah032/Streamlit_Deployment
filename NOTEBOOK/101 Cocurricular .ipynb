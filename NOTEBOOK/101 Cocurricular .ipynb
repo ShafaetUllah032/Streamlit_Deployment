{
 "cells": [
  {
   "cell_type": "markdown",
   "metadata": {},
   "source": [
    "# <span style = \"color : red\"> <h2 style=\"text-align: center;\"> Data Preparation and Experiments</h2> </span>\n",
    " <h3 style=\"text-align: center;\"> Let's GO </h3>"
   ]
  },
  {
   "cell_type": "code",
   "execution_count": 2,
   "metadata": {},
   "outputs": [],
   "source": [
    "# %pip install pathlib"
   ]
  },
  {
   "cell_type": "code",
   "execution_count": 3,
   "metadata": {},
   "outputs": [],
   "source": [
    "import numpy as np\n",
    "import pandas as pd\n",
    "from pathlib import Path\n",
    "import requests"
   ]
  },
  {
   "cell_type": "code",
   "execution_count": 4,
   "metadata": {},
   "outputs": [],
   "source": [
    "data=[\n",
    "    [2018,10,15,20],\n",
    "    [2019,12,15,22],\n",
    "    [2020,14,32,25],\n",
    "    [2021,16,37,28],\n",
    "    [2022,19,15,30]\n",
    "\n",
    "]\n",
    "simple_data=pd.DataFrame(data,columns=['year','col1','col2','col3'])"
   ]
  },
  {
   "cell_type": "code",
   "execution_count": 5,
   "metadata": {},
   "outputs": [
    {
     "data": {
      "text/html": [
       "<div>\n",
       "<style scoped>\n",
       "    .dataframe tbody tr th:only-of-type {\n",
       "        vertical-align: middle;\n",
       "    }\n",
       "\n",
       "    .dataframe tbody tr th {\n",
       "        vertical-align: top;\n",
       "    }\n",
       "\n",
       "    .dataframe thead th {\n",
       "        text-align: right;\n",
       "    }\n",
       "</style>\n",
       "<table border=\"1\" class=\"dataframe\">\n",
       "  <thead>\n",
       "    <tr style=\"text-align: right;\">\n",
       "      <th></th>\n",
       "      <th>year</th>\n",
       "      <th>col1</th>\n",
       "      <th>col2</th>\n",
       "      <th>col3</th>\n",
       "    </tr>\n",
       "  </thead>\n",
       "  <tbody>\n",
       "    <tr>\n",
       "      <th>0</th>\n",
       "      <td>2018</td>\n",
       "      <td>10</td>\n",
       "      <td>15</td>\n",
       "      <td>20</td>\n",
       "    </tr>\n",
       "    <tr>\n",
       "      <th>1</th>\n",
       "      <td>2019</td>\n",
       "      <td>12</td>\n",
       "      <td>15</td>\n",
       "      <td>22</td>\n",
       "    </tr>\n",
       "    <tr>\n",
       "      <th>2</th>\n",
       "      <td>2020</td>\n",
       "      <td>14</td>\n",
       "      <td>32</td>\n",
       "      <td>25</td>\n",
       "    </tr>\n",
       "    <tr>\n",
       "      <th>3</th>\n",
       "      <td>2021</td>\n",
       "      <td>16</td>\n",
       "      <td>37</td>\n",
       "      <td>28</td>\n",
       "    </tr>\n",
       "    <tr>\n",
       "      <th>4</th>\n",
       "      <td>2022</td>\n",
       "      <td>19</td>\n",
       "      <td>15</td>\n",
       "      <td>30</td>\n",
       "    </tr>\n",
       "  </tbody>\n",
       "</table>\n",
       "</div>"
      ],
      "text/plain": [
       "   year  col1  col2  col3\n",
       "0  2018    10    15    20\n",
       "1  2019    12    15    22\n",
       "2  2020    14    32    25\n",
       "3  2021    16    37    28\n",
       "4  2022    19    15    30"
      ]
     },
     "execution_count": 5,
     "metadata": {},
     "output_type": "execute_result"
    }
   ],
   "source": [
    "simple_data"
   ]
  },
  {
   "cell_type": "code",
   "execution_count": 6,
   "metadata": {},
   "outputs": [
    {
     "name": "stdout",
     "output_type": "stream",
     "text": [
      "path exist , skipping making.... \n"
     ]
    }
   ],
   "source": [
    "data_dir=Path(\"data\")\n",
    "\n",
    "if data_dir.is_dir():\n",
    "    print(\"path exist , skipping making.... \")\n",
    "\n",
    "else:\n",
    "    data_dir.mkdir(parents=True,\n",
    "                   exist_ok=True)\n",
    "    print(\"directory is made\")"
   ]
  },
  {
   "cell_type": "code",
   "execution_count": 7,
   "metadata": {},
   "outputs": [
    {
     "name": "stdout",
     "output_type": "stream",
     "text": [
      "file exist, skip creating.....\n"
     ]
    }
   ],
   "source": [
    "if Path(data_dir/'sample.csv').exists():\n",
    "    print(\"file exist, skip creating.....\")\n",
    "else:\n",
    "    simple_data.to_csv(data_dir/'sample.csv',index=False)\n",
    "    "
   ]
  },
  {
   "cell_type": "code",
   "execution_count": 8,
   "metadata": {},
   "outputs": [],
   "source": [
    "sample_map=pd.DataFrame(\n",
    "   { 'Location': ['Dhaka', 'Chittagong', 'Cox\\'s Bazar', 'Sylhet', 'Sundarbans'],\n",
    "    'Latitude': [23.8103, 22.3569, 21.4272, 24.8949, 21.9497],\n",
    "    'Longitude': [90.4125, 91.7832, 92.0058, 91.8687, 89.1833]}\n",
    ")"
   ]
  },
  {
   "cell_type": "code",
   "execution_count": 9,
   "metadata": {},
   "outputs": [
    {
     "name": "stdout",
     "output_type": "stream",
     "text": [
      "file exist, skip creating.....\n"
     ]
    }
   ],
   "source": [
    "if Path(data_dir/'sample.csv').is_file():\n",
    "    print(\"file exist, skip creating.....\")\n",
    "else:\n",
    "    sample_map.to_csv(data_dir/'sample_map.csv',index=False)"
   ]
  },
  {
   "cell_type": "code",
   "execution_count": 10,
   "metadata": {},
   "outputs": [],
   "source": [
    "url=\"https://raw.githubusercontent.com/marcopeix/MachineLearningModelDeploymentwithStreamlit/master/12_dashboard_capstone/data/quarterly_canada_population.csv\""
   ]
  },
  {
   "cell_type": "code",
   "execution_count": 11,
   "metadata": {},
   "outputs": [
    {
     "name": "stdout",
     "output_type": "stream",
     "text": [
      "File exist already .......\n"
     ]
    }
   ],
   "source": [
    "# creating file for capstone project canada populations\n",
    "\n",
    "if (Path(data_dir/'c_people.csv')).exists():\n",
    "    print(\"File exist already .......\")\n",
    "else:\n",
    "    with open(data_dir/'c_people.csv',\"wb\") as f:\n",
    "        request=requests.get(\"https://raw.githubusercontent.com/marcopeix/MachineLearningModelDeploymentwithStreamlit/master/12_dashboard_capstone/data/quarterly_canada_population.csv\")\n",
    "        f.write(request.content)\n",
    "        print(f\"File created ........ \")"
   ]
  },
  {
   "cell_type": "markdown",
   "metadata": {},
   "source": [
    "##  Transforming data for capstone project"
   ]
  },
  {
   "cell_type": "code",
   "execution_count": 12,
   "metadata": {},
   "outputs": [
    {
     "data": {
      "text/html": [
       "<div>\n",
       "<style scoped>\n",
       "    .dataframe tbody tr th:only-of-type {\n",
       "        vertical-align: middle;\n",
       "    }\n",
       "\n",
       "    .dataframe tbody tr th {\n",
       "        vertical-align: top;\n",
       "    }\n",
       "\n",
       "    .dataframe thead th {\n",
       "        text-align: right;\n",
       "    }\n",
       "</style>\n",
       "<table border=\"1\" class=\"dataframe\">\n",
       "  <thead>\n",
       "    <tr style=\"text-align: right;\">\n",
       "      <th></th>\n",
       "      <th>Quarter</th>\n",
       "      <th>Canada</th>\n",
       "      <th>Newfoundland and Labrador</th>\n",
       "      <th>Prince Edward Island</th>\n",
       "      <th>Nova Scotia</th>\n",
       "      <th>New Brunswick</th>\n",
       "      <th>Quebec</th>\n",
       "      <th>Ontario</th>\n",
       "      <th>Manitoba</th>\n",
       "      <th>Saskatchewan</th>\n",
       "      <th>Alberta</th>\n",
       "      <th>British Columbia</th>\n",
       "      <th>Yukon</th>\n",
       "      <th>Northwest Territories</th>\n",
       "      <th>Nunavut</th>\n",
       "    </tr>\n",
       "  </thead>\n",
       "  <tbody>\n",
       "    <tr>\n",
       "      <th>124</th>\n",
       "      <td>Q3 2022</td>\n",
       "      <td>38929902</td>\n",
       "      <td>525972</td>\n",
       "      <td>170688</td>\n",
       "      <td>1019725</td>\n",
       "      <td>812061</td>\n",
       "      <td>8695659</td>\n",
       "      <td>15109416</td>\n",
       "      <td>1409223</td>\n",
       "      <td>1194803</td>\n",
       "      <td>4543111</td>\n",
       "      <td>5319324</td>\n",
       "      <td>43789</td>\n",
       "      <td>45605</td>\n",
       "      <td>40526</td>\n",
       "    </tr>\n",
       "    <tr>\n",
       "      <th>40</th>\n",
       "      <td>Q3 2001</td>\n",
       "      <td>31020902</td>\n",
       "      <td>522046</td>\n",
       "      <td>136665</td>\n",
       "      <td>932494</td>\n",
       "      <td>749820</td>\n",
       "      <td>7396456</td>\n",
       "      <td>11897534</td>\n",
       "      <td>1151454</td>\n",
       "      <td>1000239</td>\n",
       "      <td>3058108</td>\n",
       "      <td>4076950</td>\n",
       "      <td>30158</td>\n",
       "      <td>40845</td>\n",
       "      <td>28133</td>\n",
       "    </tr>\n",
       "    <tr>\n",
       "      <th>104</th>\n",
       "      <td>Q3 2017</td>\n",
       "      <td>36545236</td>\n",
       "      <td>528249</td>\n",
       "      <td>150402</td>\n",
       "      <td>950108</td>\n",
       "      <td>766621</td>\n",
       "      <td>8302063</td>\n",
       "      <td>14070141</td>\n",
       "      <td>1334790</td>\n",
       "      <td>1150331</td>\n",
       "      <td>4241100</td>\n",
       "      <td>4929384</td>\n",
       "      <td>39610</td>\n",
       "      <td>44891</td>\n",
       "      <td>37546</td>\n",
       "    </tr>\n",
       "    <tr>\n",
       "      <th>48</th>\n",
       "      <td>Q3 2003</td>\n",
       "      <td>31644028</td>\n",
       "      <td>518459</td>\n",
       "      <td>137227</td>\n",
       "      <td>937717</td>\n",
       "      <td>749441</td>\n",
       "      <td>7485753</td>\n",
       "      <td>12245039</td>\n",
       "      <td>1163596</td>\n",
       "      <td>996386</td>\n",
       "      <td>3183065</td>\n",
       "      <td>4124482</td>\n",
       "      <td>30941</td>\n",
       "      <td>42600</td>\n",
       "      <td>29322</td>\n",
       "    </tr>\n",
       "    <tr>\n",
       "      <th>34</th>\n",
       "      <td>Q1 2000</td>\n",
       "      <td>30525872</td>\n",
       "      <td>531774</td>\n",
       "      <td>136442</td>\n",
       "      <td>934594</td>\n",
       "      <td>750786</td>\n",
       "      <td>7340269</td>\n",
       "      <td>11576994</td>\n",
       "      <td>1144428</td>\n",
       "      <td>1011141</td>\n",
       "      <td>2974517</td>\n",
       "      <td>4026664</td>\n",
       "      <td>30495</td>\n",
       "      <td>40623</td>\n",
       "      <td>27145</td>\n",
       "    </tr>\n",
       "  </tbody>\n",
       "</table>\n",
       "</div>"
      ],
      "text/plain": [
       "     Quarter    Canada  Newfoundland and Labrador  Prince Edward Island  \\\n",
       "124  Q3 2022  38929902                     525972                170688   \n",
       "40   Q3 2001  31020902                     522046                136665   \n",
       "104  Q3 2017  36545236                     528249                150402   \n",
       "48   Q3 2003  31644028                     518459                137227   \n",
       "34   Q1 2000  30525872                     531774                136442   \n",
       "\n",
       "     Nova Scotia  New Brunswick   Quebec   Ontario  Manitoba  Saskatchewan  \\\n",
       "124      1019725         812061  8695659  15109416   1409223       1194803   \n",
       "40        932494         749820  7396456  11897534   1151454       1000239   \n",
       "104       950108         766621  8302063  14070141   1334790       1150331   \n",
       "48        937717         749441  7485753  12245039   1163596        996386   \n",
       "34        934594         750786  7340269  11576994   1144428       1011141   \n",
       "\n",
       "     Alberta  British Columbia  Yukon  Northwest Territories  Nunavut  \n",
       "124  4543111           5319324  43789                  45605    40526  \n",
       "40   3058108           4076950  30158                  40845    28133  \n",
       "104  4241100           4929384  39610                  44891    37546  \n",
       "48   3183065           4124482  30941                  42600    29322  \n",
       "34   2974517           4026664  30495                  40623    27145  "
      ]
     },
     "execution_count": 12,
     "metadata": {},
     "output_type": "execute_result"
    }
   ],
   "source": [
    "\n",
    "df=pd.read_csv(\"../NOTEBOOK/data/c_people.csv\")\n",
    "df.sample(5)"
   ]
  },
  {
   "cell_type": "code",
   "execution_count": 13,
   "metadata": {},
   "outputs": [
    {
     "data": {
      "text/plain": [
       "(['Q3', 'Q1', 'Q2', 'Q4'], ['1991', '1991', '1992', '1992'])"
      ]
     },
     "execution_count": 13,
     "metadata": {},
     "output_type": "execute_result"
    }
   ],
   "source": [
    "col_data=df['Quarter'][:]\n",
    "# col_data=list(col_data)\n",
    "\n",
    "year=list()\n",
    "quarter=set()\n",
    "\n",
    "for d in col_data:\n",
    "    year.append(d[3:])\n",
    "    quarter.add(d[:2])\n",
    "\n",
    "quarter=list(quarter)\n",
    "\n",
    "quarter,year[:4]"
   ]
  },
  {
   "cell_type": "code",
   "execution_count": 14,
   "metadata": {},
   "outputs": [
    {
     "data": {
      "text/plain": [
       "Index(['Canada', 'Newfoundland and Labrador', 'Prince Edward Island',\n",
       "       'Nova Scotia', 'New Brunswick', 'Quebec', 'Ontario', 'Manitoba',\n",
       "       'Saskatchewan', 'Alberta', 'British Columbia', 'Yukon',\n",
       "       'Northwest Territories', 'Nunavut'],\n",
       "      dtype='object')"
      ]
     },
     "execution_count": 14,
     "metadata": {},
     "output_type": "execute_result"
    }
   ],
   "source": [
    "place=df.columns\n",
    "place=place[1:]\n",
    "place"
   ]
  },
  {
   "cell_type": "code",
   "execution_count": 15,
   "metadata": {},
   "outputs": [],
   "source": [
    "start_date='Q1 2012'\n",
    "target=\"Quebec\""
   ]
  },
  {
   "cell_type": "code",
   "execution_count": 16,
   "metadata": {},
   "outputs": [
    {
     "data": {
      "text/plain": [
       "8029498"
      ]
     },
     "execution_count": 16,
     "metadata": {},
     "output_type": "execute_result"
    }
   ],
   "source": [
    "df.loc[df['Quarter']==start_date,target].item()"
   ]
  },
  {
   "cell_type": "code",
   "execution_count": 17,
   "metadata": {},
   "outputs": [],
   "source": [
    "x=np.arange(2,100,2).reshape(-1,1)\n",
    "\n",
    "y=x*3+2"
   ]
  },
  {
   "cell_type": "code",
   "execution_count": 18,
   "metadata": {},
   "outputs": [
    {
     "data": {
      "text/plain": [
       "array([[ 2],\n",
       "       [ 4],\n",
       "       [ 6],\n",
       "       [ 8],\n",
       "       [10],\n",
       "       [12],\n",
       "       [14],\n",
       "       [16],\n",
       "       [18],\n",
       "       [20],\n",
       "       [22],\n",
       "       [24],\n",
       "       [26],\n",
       "       [28],\n",
       "       [30],\n",
       "       [32],\n",
       "       [34],\n",
       "       [36],\n",
       "       [38],\n",
       "       [40],\n",
       "       [42],\n",
       "       [44],\n",
       "       [46],\n",
       "       [48],\n",
       "       [50],\n",
       "       [52],\n",
       "       [54],\n",
       "       [56],\n",
       "       [58],\n",
       "       [60],\n",
       "       [62],\n",
       "       [64],\n",
       "       [66],\n",
       "       [68],\n",
       "       [70],\n",
       "       [72],\n",
       "       [74],\n",
       "       [76],\n",
       "       [78],\n",
       "       [80],\n",
       "       [82],\n",
       "       [84],\n",
       "       [86],\n",
       "       [88],\n",
       "       [90],\n",
       "       [92],\n",
       "       [94],\n",
       "       [96],\n",
       "       [98]])"
      ]
     },
     "execution_count": 18,
     "metadata": {},
     "output_type": "execute_result"
    }
   ],
   "source": [
    "x"
   ]
  },
  {
   "cell_type": "code",
   "execution_count": 19,
   "metadata": {},
   "outputs": [
    {
     "data": {
      "text/plain": [
       "array([[  8],\n",
       "       [ 14],\n",
       "       [ 20],\n",
       "       [ 26],\n",
       "       [ 32],\n",
       "       [ 38],\n",
       "       [ 44],\n",
       "       [ 50],\n",
       "       [ 56],\n",
       "       [ 62],\n",
       "       [ 68],\n",
       "       [ 74],\n",
       "       [ 80],\n",
       "       [ 86],\n",
       "       [ 92],\n",
       "       [ 98],\n",
       "       [104],\n",
       "       [110],\n",
       "       [116],\n",
       "       [122],\n",
       "       [128],\n",
       "       [134],\n",
       "       [140],\n",
       "       [146],\n",
       "       [152],\n",
       "       [158],\n",
       "       [164],\n",
       "       [170],\n",
       "       [176],\n",
       "       [182],\n",
       "       [188],\n",
       "       [194],\n",
       "       [200],\n",
       "       [206],\n",
       "       [212],\n",
       "       [218],\n",
       "       [224],\n",
       "       [230],\n",
       "       [236],\n",
       "       [242],\n",
       "       [248],\n",
       "       [254],\n",
       "       [260],\n",
       "       [266],\n",
       "       [272],\n",
       "       [278],\n",
       "       [284],\n",
       "       [290],\n",
       "       [296]])"
      ]
     },
     "execution_count": 19,
     "metadata": {},
     "output_type": "execute_result"
    }
   ],
   "source": [
    "y"
   ]
  },
  {
   "cell_type": "code",
   "execution_count": 20,
   "metadata": {},
   "outputs": [],
   "source": [
    "from sklearn.linear_model import LinearRegression\n",
    "\n",
    "model=LinearRegression().fit(x,y)"
   ]
  },
  {
   "cell_type": "code",
   "execution_count": 21,
   "metadata": {},
   "outputs": [
    {
     "data": {
      "text/plain": [
       "array([[ 5.],\n",
       "       [11.],\n",
       "       [17.],\n",
       "       [23.],\n",
       "       [29.],\n",
       "       [35.]])"
      ]
     },
     "execution_count": 21,
     "metadata": {},
     "output_type": "execute_result"
    }
   ],
   "source": [
    "x_pred=np.arange(1,13,2).reshape(-1,1)\n",
    "model.predict(x_pred)"
   ]
  },
  {
   "cell_type": "code",
   "execution_count": 22,
   "metadata": {},
   "outputs": [
    {
     "data": {
      "text/plain": [
       "array([ 1,  3,  5,  7,  9, 11])"
      ]
     },
     "execution_count": 22,
     "metadata": {},
     "output_type": "execute_result"
    }
   ],
   "source": [
    "x_pred.reshape(6)"
   ]
  },
  {
   "cell_type": "code",
   "execution_count": 23,
   "metadata": {},
   "outputs": [
    {
     "name": "stdout",
     "output_type": "stream",
     "text": [
      "file exist , skipping creation\n"
     ]
    }
   ],
   "source": [
    "url=\"https://raw.githubusercontent.com/marcopeix/MachineLearningModelDeploymentwithStreamlit/master/19_caching_capstone2/data/mushrooms.csv\"\n",
    "\n",
    "\n",
    "if Path(\"data/mashroom.csv\").is_file():\n",
    "    print(\"file exist , skipping creation\")\n",
    "\n",
    "else:\n",
    "    with open(\"data/mashroom.csv\",\"wb\") as file:\n",
    "        request=requests.get(url)\n",
    "        file.write(request.content)\n",
    "        print(\"mashroom csv file created\")\n"
   ]
  },
  {
   "cell_type": "code",
   "execution_count": 24,
   "metadata": {},
   "outputs": [],
   "source": [
    "mashroom_data_path=\"data/mashroom.csv\""
   ]
  },
  {
   "cell_type": "code",
   "execution_count": 25,
   "metadata": {},
   "outputs": [
    {
     "data": {
      "text/html": [
       "<div>\n",
       "<style scoped>\n",
       "    .dataframe tbody tr th:only-of-type {\n",
       "        vertical-align: middle;\n",
       "    }\n",
       "\n",
       "    .dataframe tbody tr th {\n",
       "        vertical-align: top;\n",
       "    }\n",
       "\n",
       "    .dataframe thead th {\n",
       "        text-align: right;\n",
       "    }\n",
       "</style>\n",
       "<table border=\"1\" class=\"dataframe\">\n",
       "  <thead>\n",
       "    <tr style=\"text-align: right;\">\n",
       "      <th></th>\n",
       "      <th>odor</th>\n",
       "      <th>gill-size</th>\n",
       "      <th>gill-color</th>\n",
       "      <th>stalk-surface-above-ring</th>\n",
       "      <th>stalk-surface-below-ring</th>\n",
       "      <th>stalk-color-above-ring</th>\n",
       "      <th>stalk-color-below-ring</th>\n",
       "      <th>ring-type</th>\n",
       "      <th>spore-print-color</th>\n",
       "      <th>class</th>\n",
       "    </tr>\n",
       "  </thead>\n",
       "  <tbody>\n",
       "    <tr>\n",
       "      <th>5614</th>\n",
       "      <td>s</td>\n",
       "      <td>n</td>\n",
       "      <td>b</td>\n",
       "      <td>k</td>\n",
       "      <td>s</td>\n",
       "      <td>w</td>\n",
       "      <td>p</td>\n",
       "      <td>e</td>\n",
       "      <td>w</td>\n",
       "      <td>p</td>\n",
       "    </tr>\n",
       "    <tr>\n",
       "      <th>1673</th>\n",
       "      <td>n</td>\n",
       "      <td>b</td>\n",
       "      <td>n</td>\n",
       "      <td>s</td>\n",
       "      <td>f</td>\n",
       "      <td>w</td>\n",
       "      <td>w</td>\n",
       "      <td>e</td>\n",
       "      <td>n</td>\n",
       "      <td>e</td>\n",
       "    </tr>\n",
       "    <tr>\n",
       "      <th>3395</th>\n",
       "      <td>c</td>\n",
       "      <td>n</td>\n",
       "      <td>g</td>\n",
       "      <td>s</td>\n",
       "      <td>s</td>\n",
       "      <td>w</td>\n",
       "      <td>w</td>\n",
       "      <td>p</td>\n",
       "      <td>k</td>\n",
       "      <td>p</td>\n",
       "    </tr>\n",
       "    <tr>\n",
       "      <th>5887</th>\n",
       "      <td>f</td>\n",
       "      <td>b</td>\n",
       "      <td>p</td>\n",
       "      <td>s</td>\n",
       "      <td>f</td>\n",
       "      <td>w</td>\n",
       "      <td>w</td>\n",
       "      <td>p</td>\n",
       "      <td>h</td>\n",
       "      <td>p</td>\n",
       "    </tr>\n",
       "    <tr>\n",
       "      <th>5761</th>\n",
       "      <td>y</td>\n",
       "      <td>n</td>\n",
       "      <td>b</td>\n",
       "      <td>k</td>\n",
       "      <td>s</td>\n",
       "      <td>w</td>\n",
       "      <td>p</td>\n",
       "      <td>e</td>\n",
       "      <td>w</td>\n",
       "      <td>p</td>\n",
       "    </tr>\n",
       "  </tbody>\n",
       "</table>\n",
       "</div>"
      ],
      "text/plain": [
       "     odor gill-size gill-color stalk-surface-above-ring  \\\n",
       "5614    s         n          b                        k   \n",
       "1673    n         b          n                        s   \n",
       "3395    c         n          g                        s   \n",
       "5887    f         b          p                        s   \n",
       "5761    y         n          b                        k   \n",
       "\n",
       "     stalk-surface-below-ring stalk-color-above-ring stalk-color-below-ring  \\\n",
       "5614                        s                      w                      p   \n",
       "1673                        f                      w                      w   \n",
       "3395                        s                      w                      w   \n",
       "5887                        f                      w                      w   \n",
       "5761                        s                      w                      p   \n",
       "\n",
       "     ring-type spore-print-color class  \n",
       "5614         e                 w     p  \n",
       "1673         e                 n     e  \n",
       "3395         p                 k     p  \n",
       "5887         p                 h     p  \n",
       "5761         e                 w     p  "
      ]
     },
     "execution_count": 25,
     "metadata": {},
     "output_type": "execute_result"
    }
   ],
   "source": [
    "mf=pd.read_csv(\"data/mushrooms_final.csv\")\n",
    "mf.sample(5)"
   ]
  },
  {
   "cell_type": "code",
   "execution_count": 26,
   "metadata": {},
   "outputs": [
    {
     "data": {
      "text/plain": [
       "Index(['odor', 'gill-size', 'gill-color', 'stalk-surface-above-ring',\n",
       "       'stalk-surface-below-ring', 'stalk-color-above-ring',\n",
       "       'stalk-color-below-ring', 'ring-type', 'spore-print-color', 'class'],\n",
       "      dtype='object')"
      ]
     },
     "execution_count": 26,
     "metadata": {},
     "output_type": "execute_result"
    }
   ],
   "source": [
    "f_columns=mf.columns\n",
    "f_columns"
   ]
  },
  {
   "cell_type": "code",
   "execution_count": 27,
   "metadata": {},
   "outputs": [],
   "source": [
    "dc=dict()"
   ]
  },
  {
   "cell_type": "code",
   "execution_count": 28,
   "metadata": {},
   "outputs": [],
   "source": [
    "for c in f_columns:\n",
    "    #print(mf[c].unique())\n",
    "    l=mf[c].unique()\n",
    "    dc[c]=l"
   ]
  },
  {
   "cell_type": "code",
   "execution_count": 29,
   "metadata": {},
   "outputs": [
    {
     "data": {
      "text/plain": [
       "array(['p', 'a', 'l', 'n', 'f', 'c', 'y', 's', 'm'], dtype=object)"
      ]
     },
     "execution_count": 29,
     "metadata": {},
     "output_type": "execute_result"
    }
   ],
   "source": [
    "dc['odor']"
   ]
  },
  {
   "cell_type": "code",
   "execution_count": 30,
   "metadata": {},
   "outputs": [
    {
     "data": {
      "text/plain": [
       "('odor', 'gill-size', 'gill-color')"
      ]
     },
     "execution_count": 30,
     "metadata": {},
     "output_type": "execute_result"
    }
   ],
   "source": [
    "cols=mf.columns\n",
    "a,b,c=cols[:3]\n",
    "a,b,c"
   ]
  },
  {
   "cell_type": "code",
   "execution_count": 31,
   "metadata": {},
   "outputs": [
    {
     "data": {
      "text/plain": [
       "['p', 'a', 'l', 'n', 'f', 'c', 'y', 's', 'm']"
      ]
     },
     "execution_count": 31,
     "metadata": {},
     "output_type": "execute_result"
    }
   ],
   "source": [
    "list(dc[a])"
   ]
  },
  {
   "cell_type": "markdown",
   "metadata": {},
   "source": [
    "### For Session State Management capstone project data saving "
   ]
  },
  {
   "cell_type": "code",
   "execution_count": 32,
   "metadata": {},
   "outputs": [
    {
     "name": "stdout",
     "output_type": "stream",
     "text": [
      "car data canada csv file created\n"
     ]
    }
   ],
   "source": [
    "url=\"https://raw.githubusercontent.com/marcopeix/MachineLearningModelDeploymentwithStreamlit/master/25_state_capstone/data/used_car_canada_clean.csv\"\n",
    "if Path(\"data/used_car_canada.csv\").is_file():\n",
    "    print(\"file exist , skipping creation\")\n",
    "\n",
    "else:\n",
    "    with open(\"data/used_car_canada.csv\",\"wb\") as file:\n",
    "        request=requests.get(url)\n",
    "        file.write(request.content)\n",
    "        print(\"car data canada csv file created\")"
   ]
  },
  {
   "cell_type": "code",
   "execution_count": 33,
   "metadata": {},
   "outputs": [
    {
     "data": {
      "text/html": [
       "<div>\n",
       "<style scoped>\n",
       "    .dataframe tbody tr th:only-of-type {\n",
       "        vertical-align: middle;\n",
       "    }\n",
       "\n",
       "    .dataframe tbody tr th {\n",
       "        vertical-align: top;\n",
       "    }\n",
       "\n",
       "    .dataframe thead th {\n",
       "        text-align: right;\n",
       "    }\n",
       "</style>\n",
       "<table border=\"1\" class=\"dataframe\">\n",
       "  <thead>\n",
       "    <tr style=\"text-align: right;\">\n",
       "      <th></th>\n",
       "      <th>price</th>\n",
       "      <th>miles</th>\n",
       "      <th>year</th>\n",
       "      <th>make</th>\n",
       "      <th>model</th>\n",
       "      <th>body_type</th>\n",
       "      <th>vehicle_type</th>\n",
       "      <th>drivetrain</th>\n",
       "      <th>transmission</th>\n",
       "      <th>fuel_type</th>\n",
       "      <th>engine_size</th>\n",
       "      <th>engine_block</th>\n",
       "      <th>state</th>\n",
       "    </tr>\n",
       "  </thead>\n",
       "  <tbody>\n",
       "    <tr>\n",
       "      <th>89234</th>\n",
       "      <td>33929.0</td>\n",
       "      <td>37522.0</td>\n",
       "      <td>2017.0</td>\n",
       "      <td>jeep</td>\n",
       "      <td>Wrangler</td>\n",
       "      <td>suv</td>\n",
       "      <td>Truck</td>\n",
       "      <td>4WD</td>\n",
       "      <td>Manual</td>\n",
       "      <td>gasoline</td>\n",
       "      <td>3.6</td>\n",
       "      <td>V</td>\n",
       "      <td>NS</td>\n",
       "    </tr>\n",
       "    <tr>\n",
       "      <th>117823</th>\n",
       "      <td>53488.0</td>\n",
       "      <td>56430.0</td>\n",
       "      <td>2019.0</td>\n",
       "      <td>chevrolet</td>\n",
       "      <td>Tahoe</td>\n",
       "      <td>suv</td>\n",
       "      <td>Truck</td>\n",
       "      <td>4WD</td>\n",
       "      <td>Automatic</td>\n",
       "      <td>gasoline</td>\n",
       "      <td>5.3</td>\n",
       "      <td>V</td>\n",
       "      <td>BC</td>\n",
       "    </tr>\n",
       "    <tr>\n",
       "      <th>89876</th>\n",
       "      <td>37494.0</td>\n",
       "      <td>54377.0</td>\n",
       "      <td>2018.0</td>\n",
       "      <td>jeep</td>\n",
       "      <td>Wrangler JK Unlimited</td>\n",
       "      <td>suv</td>\n",
       "      <td>Truck</td>\n",
       "      <td>4WD</td>\n",
       "      <td>Manual</td>\n",
       "      <td>gasoline</td>\n",
       "      <td>3.6</td>\n",
       "      <td>V</td>\n",
       "      <td>ON</td>\n",
       "    </tr>\n",
       "    <tr>\n",
       "      <th>115802</th>\n",
       "      <td>14995.0</td>\n",
       "      <td>84566.0</td>\n",
       "      <td>2016.0</td>\n",
       "      <td>buick</td>\n",
       "      <td>Verano</td>\n",
       "      <td>sedan</td>\n",
       "      <td>Car</td>\n",
       "      <td>FWD</td>\n",
       "      <td>Automatic</td>\n",
       "      <td>gasoline</td>\n",
       "      <td>2.4</td>\n",
       "      <td>I</td>\n",
       "      <td>NB</td>\n",
       "    </tr>\n",
       "    <tr>\n",
       "      <th>48817</th>\n",
       "      <td>15000.0</td>\n",
       "      <td>81709.0</td>\n",
       "      <td>2014.0</td>\n",
       "      <td>mercedes_benz</td>\n",
       "      <td>C-Class</td>\n",
       "      <td>sedan</td>\n",
       "      <td>Car</td>\n",
       "      <td>4WD</td>\n",
       "      <td>Automatic</td>\n",
       "      <td>gasoline</td>\n",
       "      <td>3.5</td>\n",
       "      <td>V</td>\n",
       "      <td>ON</td>\n",
       "    </tr>\n",
       "  </tbody>\n",
       "</table>\n",
       "</div>"
      ],
      "text/plain": [
       "          price    miles    year           make                  model  \\\n",
       "89234   33929.0  37522.0  2017.0           jeep               Wrangler   \n",
       "117823  53488.0  56430.0  2019.0      chevrolet                  Tahoe   \n",
       "89876   37494.0  54377.0  2018.0           jeep  Wrangler JK Unlimited   \n",
       "115802  14995.0  84566.0  2016.0          buick                 Verano   \n",
       "48817   15000.0  81709.0  2014.0  mercedes_benz                C-Class   \n",
       "\n",
       "       body_type vehicle_type drivetrain transmission fuel_type  engine_size  \\\n",
       "89234        suv        Truck        4WD       Manual  gasoline          3.6   \n",
       "117823       suv        Truck        4WD    Automatic  gasoline          5.3   \n",
       "89876        suv        Truck        4WD       Manual  gasoline          3.6   \n",
       "115802     sedan          Car        FWD    Automatic  gasoline          2.4   \n",
       "48817      sedan          Car        4WD    Automatic  gasoline          3.5   \n",
       "\n",
       "       engine_block state  \n",
       "89234             V    NS  \n",
       "117823            V    BC  \n",
       "89876             V    ON  \n",
       "115802            I    NB  \n",
       "48817             V    ON  "
      ]
     },
     "execution_count": 33,
     "metadata": {},
     "output_type": "execute_result"
    }
   ],
   "source": [
    "df=pd.read_csv(\"data/used_car_canada.csv\")\n",
    "df.sample(5)"
   ]
  },
  {
   "cell_type": "code",
   "execution_count": 37,
   "metadata": {},
   "outputs": [
    {
     "data": {
      "text/plain": [
       "(269493, 13)"
      ]
     },
     "execution_count": 37,
     "metadata": {},
     "output_type": "execute_result"
    }
   ],
   "source": [
    "df.shape"
   ]
  },
  {
   "cell_type": "code",
   "execution_count": 35,
   "metadata": {},
   "outputs": [
    {
     "data": {
      "text/plain": [
       "price           0\n",
       "miles           0\n",
       "year            0\n",
       "make            0\n",
       "model           0\n",
       "body_type       0\n",
       "vehicle_type    0\n",
       "drivetrain      0\n",
       "transmission    0\n",
       "fuel_type       0\n",
       "engine_size     0\n",
       "engine_block    0\n",
       "state           0\n",
       "dtype: int64"
      ]
     },
     "execution_count": 35,
     "metadata": {},
     "output_type": "execute_result"
    }
   ],
   "source": [
    "df.isnull().sum()"
   ]
  },
  {
   "cell_type": "code",
   "execution_count": 36,
   "metadata": {},
   "outputs": [
    {
     "data": {
      "text/plain": [
       "price           0\n",
       "miles           0\n",
       "year            0\n",
       "make            0\n",
       "model           0\n",
       "body_type       0\n",
       "vehicle_type    0\n",
       "drivetrain      0\n",
       "transmission    0\n",
       "fuel_type       0\n",
       "engine_size     0\n",
       "engine_block    0\n",
       "state           0\n",
       "dtype: int64"
      ]
     },
     "execution_count": 36,
     "metadata": {},
     "output_type": "execute_result"
    }
   ],
   "source": [
    "df.isna().sum()"
   ]
  },
  {
   "cell_type": "code",
   "execution_count": 41,
   "metadata": {},
   "outputs": [
    {
     "data": {
      "text/plain": [
       "Index(['price', 'miles', 'year', 'make', 'model', 'body_type', 'vehicle_type',\n",
       "       'drivetrain', 'transmission', 'fuel_type', 'engine_size',\n",
       "       'engine_block', 'state'],\n",
       "      dtype='object')"
      ]
     },
     "execution_count": 41,
     "metadata": {},
     "output_type": "execute_result"
    }
   ],
   "source": [
    "cols=df.columns\n",
    "cols"
   ]
  },
  {
   "cell_type": "code",
   "execution_count": 46,
   "metadata": {},
   "outputs": [],
   "source": [
    "dc=dict()\n",
    "def creating_required_data(mf):\n",
    "    f_columns=mf.columns\n",
    "    for c in f_columns:\n",
    "        #print(mf[c].unique())\n",
    "        l=mf[c].unique()\n",
    "        dc[c]=l"
   ]
  },
  {
   "cell_type": "code",
   "execution_count": 58,
   "metadata": {},
   "outputs": [],
   "source": [
    "mf=pd.read_csv(\"data/honda_toyota_ca.csv\")\n",
    "mn=int(min(mf['miles']))\n",
    "mx=int(max(mf['miles']))\n",
    "df= mf[['year','make','model','state']]"
   ]
  },
  {
   "cell_type": "code",
   "execution_count": 59,
   "metadata": {},
   "outputs": [
    {
     "data": {
      "text/plain": [
       "(0, 561500)"
      ]
     },
     "execution_count": 59,
     "metadata": {},
     "output_type": "execute_result"
    }
   ],
   "source": [
    "mn,mx"
   ]
  },
  {
   "cell_type": "code",
   "execution_count": 60,
   "metadata": {},
   "outputs": [
    {
     "data": {
      "text/html": [
       "<div>\n",
       "<style scoped>\n",
       "    .dataframe tbody tr th:only-of-type {\n",
       "        vertical-align: middle;\n",
       "    }\n",
       "\n",
       "    .dataframe tbody tr th {\n",
       "        vertical-align: top;\n",
       "    }\n",
       "\n",
       "    .dataframe thead th {\n",
       "        text-align: right;\n",
       "    }\n",
       "</style>\n",
       "<table border=\"1\" class=\"dataframe\">\n",
       "  <thead>\n",
       "    <tr style=\"text-align: right;\">\n",
       "      <th></th>\n",
       "      <th>year</th>\n",
       "      <th>make</th>\n",
       "      <th>model</th>\n",
       "      <th>state</th>\n",
       "    </tr>\n",
       "  </thead>\n",
       "  <tbody>\n",
       "    <tr>\n",
       "      <th>0</th>\n",
       "      <td>2001.0</td>\n",
       "      <td>toyota</td>\n",
       "      <td>Prius</td>\n",
       "      <td>BC</td>\n",
       "    </tr>\n",
       "    <tr>\n",
       "      <th>1</th>\n",
       "      <td>2017.0</td>\n",
       "      <td>toyota</td>\n",
       "      <td>Prius</td>\n",
       "      <td>ON</td>\n",
       "    </tr>\n",
       "    <tr>\n",
       "      <th>2</th>\n",
       "      <td>2018.0</td>\n",
       "      <td>toyota</td>\n",
       "      <td>Prius</td>\n",
       "      <td>ON</td>\n",
       "    </tr>\n",
       "    <tr>\n",
       "      <th>3</th>\n",
       "      <td>2018.0</td>\n",
       "      <td>toyota</td>\n",
       "      <td>Prius</td>\n",
       "      <td>BC</td>\n",
       "    </tr>\n",
       "    <tr>\n",
       "      <th>4</th>\n",
       "      <td>2016.0</td>\n",
       "      <td>toyota</td>\n",
       "      <td>Prius</td>\n",
       "      <td>AB</td>\n",
       "    </tr>\n",
       "    <tr>\n",
       "      <th>...</th>\n",
       "      <td>...</td>\n",
       "      <td>...</td>\n",
       "      <td>...</td>\n",
       "      <td>...</td>\n",
       "    </tr>\n",
       "    <tr>\n",
       "      <th>39235</th>\n",
       "      <td>2016.0</td>\n",
       "      <td>toyota</td>\n",
       "      <td>Prius v</td>\n",
       "      <td>AB</td>\n",
       "    </tr>\n",
       "    <tr>\n",
       "      <th>39236</th>\n",
       "      <td>2012.0</td>\n",
       "      <td>toyota</td>\n",
       "      <td>Prius v</td>\n",
       "      <td>ON</td>\n",
       "    </tr>\n",
       "    <tr>\n",
       "      <th>39237</th>\n",
       "      <td>2014.0</td>\n",
       "      <td>toyota</td>\n",
       "      <td>Prius v</td>\n",
       "      <td>ON</td>\n",
       "    </tr>\n",
       "    <tr>\n",
       "      <th>39238</th>\n",
       "      <td>2014.0</td>\n",
       "      <td>toyota</td>\n",
       "      <td>Prius v</td>\n",
       "      <td>QC</td>\n",
       "    </tr>\n",
       "    <tr>\n",
       "      <th>39239</th>\n",
       "      <td>2017.0</td>\n",
       "      <td>toyota</td>\n",
       "      <td>Prius v</td>\n",
       "      <td>QC</td>\n",
       "    </tr>\n",
       "  </tbody>\n",
       "</table>\n",
       "<p>39240 rows × 4 columns</p>\n",
       "</div>"
      ],
      "text/plain": [
       "         year    make    model state\n",
       "0      2001.0  toyota    Prius    BC\n",
       "1      2017.0  toyota    Prius    ON\n",
       "2      2018.0  toyota    Prius    ON\n",
       "3      2018.0  toyota    Prius    BC\n",
       "4      2016.0  toyota    Prius    AB\n",
       "...       ...     ...      ...   ...\n",
       "39235  2016.0  toyota  Prius v    AB\n",
       "39236  2012.0  toyota  Prius v    ON\n",
       "39237  2014.0  toyota  Prius v    ON\n",
       "39238  2014.0  toyota  Prius v    QC\n",
       "39239  2017.0  toyota  Prius v    QC\n",
       "\n",
       "[39240 rows x 4 columns]"
      ]
     },
     "execution_count": 60,
     "metadata": {},
     "output_type": "execute_result"
    }
   ],
   "source": [
    "df"
   ]
  },
  {
   "cell_type": "code",
   "execution_count": null,
   "metadata": {},
   "outputs": [],
   "source": []
  }
 ],
 "metadata": {
  "kernelspec": {
   "display_name": "streamDev",
   "language": "python",
   "name": "python3"
  },
  "language_info": {
   "codemirror_mode": {
    "name": "ipython",
    "version": 3
   },
   "file_extension": ".py",
   "mimetype": "text/x-python",
   "name": "python",
   "nbconvert_exporter": "python",
   "pygments_lexer": "ipython3",
   "version": "3.10.14"
  }
 },
 "nbformat": 4,
 "nbformat_minor": 2
}
