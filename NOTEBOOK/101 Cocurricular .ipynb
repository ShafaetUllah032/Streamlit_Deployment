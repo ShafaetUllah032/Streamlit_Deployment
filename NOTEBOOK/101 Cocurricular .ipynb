{
 "cells": [
  {
   "cell_type": "markdown",
   "metadata": {},
   "source": [
    "# <span style = \"color : red\"> <h2 style=\"text-align: center;\"> Data Preparation and Experiments</h2> </span>\n",
    " <h3 style=\"text-align: center;\"> Let's GO </h3>"
   ]
  },
  {
   "cell_type": "code",
   "execution_count": 1,
   "metadata": {},
   "outputs": [],
   "source": [
    "# %pip install pathlib"
   ]
  },
  {
   "cell_type": "code",
   "execution_count": 2,
   "metadata": {},
   "outputs": [],
   "source": [
    "import numpy as np\n",
    "import pandas as pd\n",
    "from pathlib import Path\n",
    "import requests"
   ]
  },
  {
   "cell_type": "code",
   "execution_count": 3,
   "metadata": {},
   "outputs": [],
   "source": [
    "data=[\n",
    "    [2018,10,15,20],\n",
    "    [2019,12,15,22],\n",
    "    [2020,14,32,25],\n",
    "    [2021,16,37,28],\n",
    "    [2022,19,15,30]\n",
    "\n",
    "]\n",
    "simple_data=pd.DataFrame(data,columns=['year','col1','col2','col3'])"
   ]
  },
  {
   "cell_type": "code",
   "execution_count": 4,
   "metadata": {},
   "outputs": [
    {
     "data": {
      "text/html": [
       "<div>\n",
       "<style scoped>\n",
       "    .dataframe tbody tr th:only-of-type {\n",
       "        vertical-align: middle;\n",
       "    }\n",
       "\n",
       "    .dataframe tbody tr th {\n",
       "        vertical-align: top;\n",
       "    }\n",
       "\n",
       "    .dataframe thead th {\n",
       "        text-align: right;\n",
       "    }\n",
       "</style>\n",
       "<table border=\"1\" class=\"dataframe\">\n",
       "  <thead>\n",
       "    <tr style=\"text-align: right;\">\n",
       "      <th></th>\n",
       "      <th>year</th>\n",
       "      <th>col1</th>\n",
       "      <th>col2</th>\n",
       "      <th>col3</th>\n",
       "    </tr>\n",
       "  </thead>\n",
       "  <tbody>\n",
       "    <tr>\n",
       "      <th>0</th>\n",
       "      <td>2018</td>\n",
       "      <td>10</td>\n",
       "      <td>15</td>\n",
       "      <td>20</td>\n",
       "    </tr>\n",
       "    <tr>\n",
       "      <th>1</th>\n",
       "      <td>2019</td>\n",
       "      <td>12</td>\n",
       "      <td>15</td>\n",
       "      <td>22</td>\n",
       "    </tr>\n",
       "    <tr>\n",
       "      <th>2</th>\n",
       "      <td>2020</td>\n",
       "      <td>14</td>\n",
       "      <td>32</td>\n",
       "      <td>25</td>\n",
       "    </tr>\n",
       "    <tr>\n",
       "      <th>3</th>\n",
       "      <td>2021</td>\n",
       "      <td>16</td>\n",
       "      <td>37</td>\n",
       "      <td>28</td>\n",
       "    </tr>\n",
       "    <tr>\n",
       "      <th>4</th>\n",
       "      <td>2022</td>\n",
       "      <td>19</td>\n",
       "      <td>15</td>\n",
       "      <td>30</td>\n",
       "    </tr>\n",
       "  </tbody>\n",
       "</table>\n",
       "</div>"
      ],
      "text/plain": [
       "   year  col1  col2  col3\n",
       "0  2018    10    15    20\n",
       "1  2019    12    15    22\n",
       "2  2020    14    32    25\n",
       "3  2021    16    37    28\n",
       "4  2022    19    15    30"
      ]
     },
     "execution_count": 4,
     "metadata": {},
     "output_type": "execute_result"
    }
   ],
   "source": [
    "simple_data"
   ]
  },
  {
   "cell_type": "code",
   "execution_count": 5,
   "metadata": {},
   "outputs": [
    {
     "name": "stdout",
     "output_type": "stream",
     "text": [
      "path exist , skipping making.... \n"
     ]
    }
   ],
   "source": [
    "data_dir=Path(\"data\")\n",
    "\n",
    "if data_dir.is_dir():\n",
    "    print(\"path exist , skipping making.... \")\n",
    "\n",
    "else:\n",
    "    data_dir.mkdir(parents=True,\n",
    "                   exist_ok=True)\n",
    "    print(\"directory is made\")"
   ]
  },
  {
   "cell_type": "code",
   "execution_count": 6,
   "metadata": {},
   "outputs": [
    {
     "name": "stdout",
     "output_type": "stream",
     "text": [
      "file exist, skip creating.....\n"
     ]
    }
   ],
   "source": [
    "if Path(data_dir/'sample.csv').exists():\n",
    "    print(\"file exist, skip creating.....\")\n",
    "else:\n",
    "    simple_data.to_csv(data_dir/'sample.csv',index=False)\n",
    "    "
   ]
  },
  {
   "cell_type": "code",
   "execution_count": 7,
   "metadata": {},
   "outputs": [],
   "source": [
    "sample_map=pd.DataFrame(\n",
    "   { 'Location': ['Dhaka', 'Chittagong', 'Cox\\'s Bazar', 'Sylhet', 'Sundarbans'],\n",
    "    'Latitude': [23.8103, 22.3569, 21.4272, 24.8949, 21.9497],\n",
    "    'Longitude': [90.4125, 91.7832, 92.0058, 91.8687, 89.1833]}\n",
    ")"
   ]
  },
  {
   "cell_type": "code",
   "execution_count": 8,
   "metadata": {},
   "outputs": [
    {
     "name": "stdout",
     "output_type": "stream",
     "text": [
      "file exist, skip creating.....\n"
     ]
    }
   ],
   "source": [
    "if Path(data_dir/'sample.csv').is_file():\n",
    "    print(\"file exist, skip creating.....\")\n",
    "else:\n",
    "    sample_map.to_csv(data_dir/'sample_map.csv',index=False)"
   ]
  },
  {
   "cell_type": "code",
   "execution_count": 9,
   "metadata": {},
   "outputs": [],
   "source": [
    "url=\"https://raw.githubusercontent.com/marcopeix/MachineLearningModelDeploymentwithStreamlit/master/12_dashboard_capstone/data/quarterly_canada_population.csv\""
   ]
  },
  {
   "cell_type": "code",
   "execution_count": 10,
   "metadata": {},
   "outputs": [
    {
     "name": "stdout",
     "output_type": "stream",
     "text": [
      "File exist already .......\n"
     ]
    }
   ],
   "source": [
    "# creating file \n",
    "\n",
    "if (Path(data_dir/'c_people.csv')).exists():\n",
    "    print(\"File exist already .......\")\n",
    "else:\n",
    "    with open(data_dir/'c_people.csv',\"wb\") as f:\n",
    "        request=requests.get(\"https://raw.githubusercontent.com/marcopeix/MachineLearningModelDeploymentwithStreamlit/master/12_dashboard_capstone/data/quarterly_canada_population.csv\")\n",
    "        f.write(request.content)\n",
    "        print(f\"File created ........ \")"
   ]
  },
  {
   "cell_type": "markdown",
   "metadata": {},
   "source": [
    "##  Transforming data for capstone project"
   ]
  },
  {
   "cell_type": "code",
   "execution_count": 11,
   "metadata": {},
   "outputs": [
    {
     "data": {
      "text/html": [
       "<div>\n",
       "<style scoped>\n",
       "    .dataframe tbody tr th:only-of-type {\n",
       "        vertical-align: middle;\n",
       "    }\n",
       "\n",
       "    .dataframe tbody tr th {\n",
       "        vertical-align: top;\n",
       "    }\n",
       "\n",
       "    .dataframe thead th {\n",
       "        text-align: right;\n",
       "    }\n",
       "</style>\n",
       "<table border=\"1\" class=\"dataframe\">\n",
       "  <thead>\n",
       "    <tr style=\"text-align: right;\">\n",
       "      <th></th>\n",
       "      <th>Quarter</th>\n",
       "      <th>Canada</th>\n",
       "      <th>Newfoundland and Labrador</th>\n",
       "      <th>Prince Edward Island</th>\n",
       "      <th>Nova Scotia</th>\n",
       "      <th>New Brunswick</th>\n",
       "      <th>Quebec</th>\n",
       "      <th>Ontario</th>\n",
       "      <th>Manitoba</th>\n",
       "      <th>Saskatchewan</th>\n",
       "      <th>Alberta</th>\n",
       "      <th>British Columbia</th>\n",
       "      <th>Yukon</th>\n",
       "      <th>Northwest Territories</th>\n",
       "      <th>Nunavut</th>\n",
       "    </tr>\n",
       "  </thead>\n",
       "  <tbody>\n",
       "    <tr>\n",
       "      <th>61</th>\n",
       "      <td>Q4 2006</td>\n",
       "      <td>32680712</td>\n",
       "      <td>510329</td>\n",
       "      <td>137898</td>\n",
       "      <td>937046</td>\n",
       "      <td>744975</td>\n",
       "      <td>7653092</td>\n",
       "      <td>12700994</td>\n",
       "      <td>1183981</td>\n",
       "      <td>993361</td>\n",
       "      <td>3453944</td>\n",
       "      <td>4258655</td>\n",
       "      <td>32361</td>\n",
       "      <td>43197</td>\n",
       "      <td>30879</td>\n",
       "    </tr>\n",
       "    <tr>\n",
       "      <th>75</th>\n",
       "      <td>Q2 2010</td>\n",
       "      <td>33889236</td>\n",
       "      <td>521204</td>\n",
       "      <td>140990</td>\n",
       "      <td>940919</td>\n",
       "      <td>752021</td>\n",
       "      <td>7903339</td>\n",
       "      <td>13088106</td>\n",
       "      <td>1216610</td>\n",
       "      <td>1046799</td>\n",
       "      <td>3714974</td>\n",
       "      <td>4453744</td>\n",
       "      <td>34241</td>\n",
       "      <td>43152</td>\n",
       "      <td>33137</td>\n",
       "    </tr>\n",
       "    <tr>\n",
       "      <th>104</th>\n",
       "      <td>Q3 2017</td>\n",
       "      <td>36545236</td>\n",
       "      <td>528249</td>\n",
       "      <td>150402</td>\n",
       "      <td>950108</td>\n",
       "      <td>766621</td>\n",
       "      <td>8302063</td>\n",
       "      <td>14070141</td>\n",
       "      <td>1334790</td>\n",
       "      <td>1150331</td>\n",
       "      <td>4241100</td>\n",
       "      <td>4929384</td>\n",
       "      <td>39610</td>\n",
       "      <td>44891</td>\n",
       "      <td>37546</td>\n",
       "    </tr>\n",
       "    <tr>\n",
       "      <th>62</th>\n",
       "      <td>Q1 2007</td>\n",
       "      <td>32717701</td>\n",
       "      <td>510335</td>\n",
       "      <td>137778</td>\n",
       "      <td>936203</td>\n",
       "      <td>744853</td>\n",
       "      <td>7661583</td>\n",
       "      <td>12702838</td>\n",
       "      <td>1184503</td>\n",
       "      <td>995174</td>\n",
       "      <td>3472771</td>\n",
       "      <td>4265321</td>\n",
       "      <td>32315</td>\n",
       "      <td>43074</td>\n",
       "      <td>30953</td>\n",
       "    </tr>\n",
       "    <tr>\n",
       "      <th>116</th>\n",
       "      <td>Q3 2020</td>\n",
       "      <td>38007166</td>\n",
       "      <td>521359</td>\n",
       "      <td>161305</td>\n",
       "      <td>981691</td>\n",
       "      <td>782996</td>\n",
       "      <td>8576595</td>\n",
       "      <td>14726022</td>\n",
       "      <td>1379888</td>\n",
       "      <td>1178467</td>\n",
       "      <td>4416682</td>\n",
       "      <td>5155495</td>\n",
       "      <td>42163</td>\n",
       "      <td>45346</td>\n",
       "      <td>39157</td>\n",
       "    </tr>\n",
       "  </tbody>\n",
       "</table>\n",
       "</div>"
      ],
      "text/plain": [
       "     Quarter    Canada  Newfoundland and Labrador  Prince Edward Island  \\\n",
       "61   Q4 2006  32680712                     510329                137898   \n",
       "75   Q2 2010  33889236                     521204                140990   \n",
       "104  Q3 2017  36545236                     528249                150402   \n",
       "62   Q1 2007  32717701                     510335                137778   \n",
       "116  Q3 2020  38007166                     521359                161305   \n",
       "\n",
       "     Nova Scotia  New Brunswick   Quebec   Ontario  Manitoba  Saskatchewan  \\\n",
       "61        937046         744975  7653092  12700994   1183981        993361   \n",
       "75        940919         752021  7903339  13088106   1216610       1046799   \n",
       "104       950108         766621  8302063  14070141   1334790       1150331   \n",
       "62        936203         744853  7661583  12702838   1184503        995174   \n",
       "116       981691         782996  8576595  14726022   1379888       1178467   \n",
       "\n",
       "     Alberta  British Columbia  Yukon  Northwest Territories  Nunavut  \n",
       "61   3453944           4258655  32361                  43197    30879  \n",
       "75   3714974           4453744  34241                  43152    33137  \n",
       "104  4241100           4929384  39610                  44891    37546  \n",
       "62   3472771           4265321  32315                  43074    30953  \n",
       "116  4416682           5155495  42163                  45346    39157  "
      ]
     },
     "execution_count": 11,
     "metadata": {},
     "output_type": "execute_result"
    }
   ],
   "source": [
    "\n",
    "df=pd.read_csv(\"../NOTEBOOK/data/c_people.csv\")\n",
    "df.sample(5)"
   ]
  },
  {
   "cell_type": "code",
   "execution_count": 12,
   "metadata": {},
   "outputs": [
    {
     "data": {
      "text/plain": [
       "(['Q3', 'Q4', 'Q2', 'Q1'], ['1991', '1991', '1992', '1992'])"
      ]
     },
     "execution_count": 12,
     "metadata": {},
     "output_type": "execute_result"
    }
   ],
   "source": [
    "col_data=df['Quarter'][:]\n",
    "# col_data=list(col_data)\n",
    "\n",
    "year=list()\n",
    "quarter=set()\n",
    "\n",
    "for d in col_data:\n",
    "    year.append(d[3:])\n",
    "    quarter.add(d[:2])\n",
    "\n",
    "quarter=list(quarter)\n",
    "\n",
    "quarter,year[:4]"
   ]
  },
  {
   "cell_type": "code",
   "execution_count": 13,
   "metadata": {},
   "outputs": [
    {
     "data": {
      "text/plain": [
       "Index(['Canada', 'Newfoundland and Labrador', 'Prince Edward Island',\n",
       "       'Nova Scotia', 'New Brunswick', 'Quebec', 'Ontario', 'Manitoba',\n",
       "       'Saskatchewan', 'Alberta', 'British Columbia', 'Yukon',\n",
       "       'Northwest Territories', 'Nunavut'],\n",
       "      dtype='object')"
      ]
     },
     "execution_count": 13,
     "metadata": {},
     "output_type": "execute_result"
    }
   ],
   "source": [
    "place=df.columns\n",
    "place=place[1:]\n",
    "place"
   ]
  },
  {
   "cell_type": "code",
   "execution_count": 14,
   "metadata": {},
   "outputs": [],
   "source": [
    "start_date='Q1 2012'\n",
    "target=\"Quebec\""
   ]
  },
  {
   "cell_type": "code",
   "execution_count": 15,
   "metadata": {},
   "outputs": [
    {
     "data": {
      "text/plain": [
       "8029498"
      ]
     },
     "execution_count": 15,
     "metadata": {},
     "output_type": "execute_result"
    }
   ],
   "source": [
    "df.loc[df['Quarter']==start_date,target].item()"
   ]
  },
  {
   "cell_type": "code",
   "execution_count": 56,
   "metadata": {},
   "outputs": [],
   "source": [
    "x=np.arange(2,100,2).reshape(-1,1)\n",
    "\n",
    "y=x*3+2"
   ]
  },
  {
   "cell_type": "code",
   "execution_count": 57,
   "metadata": {},
   "outputs": [
    {
     "data": {
      "text/plain": [
       "array([[ 2],\n",
       "       [ 4],\n",
       "       [ 6],\n",
       "       [ 8],\n",
       "       [10],\n",
       "       [12],\n",
       "       [14],\n",
       "       [16],\n",
       "       [18],\n",
       "       [20],\n",
       "       [22],\n",
       "       [24],\n",
       "       [26],\n",
       "       [28],\n",
       "       [30],\n",
       "       [32],\n",
       "       [34],\n",
       "       [36],\n",
       "       [38],\n",
       "       [40],\n",
       "       [42],\n",
       "       [44],\n",
       "       [46],\n",
       "       [48],\n",
       "       [50],\n",
       "       [52],\n",
       "       [54],\n",
       "       [56],\n",
       "       [58],\n",
       "       [60],\n",
       "       [62],\n",
       "       [64],\n",
       "       [66],\n",
       "       [68],\n",
       "       [70],\n",
       "       [72],\n",
       "       [74],\n",
       "       [76],\n",
       "       [78],\n",
       "       [80],\n",
       "       [82],\n",
       "       [84],\n",
       "       [86],\n",
       "       [88],\n",
       "       [90],\n",
       "       [92],\n",
       "       [94],\n",
       "       [96],\n",
       "       [98]])"
      ]
     },
     "execution_count": 57,
     "metadata": {},
     "output_type": "execute_result"
    }
   ],
   "source": [
    "x"
   ]
  },
  {
   "cell_type": "code",
   "execution_count": 58,
   "metadata": {},
   "outputs": [
    {
     "data": {
      "text/plain": [
       "array([[  8],\n",
       "       [ 14],\n",
       "       [ 20],\n",
       "       [ 26],\n",
       "       [ 32],\n",
       "       [ 38],\n",
       "       [ 44],\n",
       "       [ 50],\n",
       "       [ 56],\n",
       "       [ 62],\n",
       "       [ 68],\n",
       "       [ 74],\n",
       "       [ 80],\n",
       "       [ 86],\n",
       "       [ 92],\n",
       "       [ 98],\n",
       "       [104],\n",
       "       [110],\n",
       "       [116],\n",
       "       [122],\n",
       "       [128],\n",
       "       [134],\n",
       "       [140],\n",
       "       [146],\n",
       "       [152],\n",
       "       [158],\n",
       "       [164],\n",
       "       [170],\n",
       "       [176],\n",
       "       [182],\n",
       "       [188],\n",
       "       [194],\n",
       "       [200],\n",
       "       [206],\n",
       "       [212],\n",
       "       [218],\n",
       "       [224],\n",
       "       [230],\n",
       "       [236],\n",
       "       [242],\n",
       "       [248],\n",
       "       [254],\n",
       "       [260],\n",
       "       [266],\n",
       "       [272],\n",
       "       [278],\n",
       "       [284],\n",
       "       [290],\n",
       "       [296]])"
      ]
     },
     "execution_count": 58,
     "metadata": {},
     "output_type": "execute_result"
    }
   ],
   "source": [
    "y"
   ]
  },
  {
   "cell_type": "code",
   "execution_count": 59,
   "metadata": {},
   "outputs": [],
   "source": [
    "from sklearn.linear_model import LinearRegression\n",
    "\n",
    "model=LinearRegression().fit(x,y)"
   ]
  },
  {
   "cell_type": "code",
   "execution_count": 64,
   "metadata": {},
   "outputs": [
    {
     "data": {
      "text/plain": [
       "array([[ 5., 11., 17., 23., 29., 35.]])"
      ]
     },
     "execution_count": 64,
     "metadata": {},
     "output_type": "execute_result"
    }
   ],
   "source": [
    "x_pred=np.arange(1,13,2).reshape(-1,1)\n",
    "model.predict(x_pred)"
   ]
  },
  {
   "cell_type": "code",
   "execution_count": 67,
   "metadata": {},
   "outputs": [
    {
     "data": {
      "text/plain": [
       "array([ 1,  3,  5,  7,  9, 11])"
      ]
     },
     "execution_count": 67,
     "metadata": {},
     "output_type": "execute_result"
    }
   ],
   "source": [
    "x_pred.reshape(6)"
   ]
  },
  {
   "cell_type": "code",
   "execution_count": null,
   "metadata": {},
   "outputs": [],
   "source": []
  }
 ],
 "metadata": {
  "kernelspec": {
   "display_name": "streamDev",
   "language": "python",
   "name": "python3"
  },
  "language_info": {
   "codemirror_mode": {
    "name": "ipython",
    "version": 3
   },
   "file_extension": ".py",
   "mimetype": "text/x-python",
   "name": "python",
   "nbconvert_exporter": "python",
   "pygments_lexer": "ipython3",
   "version": "3.10.14"
  }
 },
 "nbformat": 4,
 "nbformat_minor": 2
}
