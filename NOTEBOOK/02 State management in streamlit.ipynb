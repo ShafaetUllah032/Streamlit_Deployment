{
 "cells": [
  {
   "cell_type": "markdown",
   "metadata": {},
   "source": [
    "# <span style = \"color : blue\"> <h2 style=\"text-align: center;\"> State Management in Streamlit</h2> </span>\n",
    " <h3 style=\"text-align: center;\"> Let's GO </h3>"
   ]
  },
  {
   "cell_type": "markdown",
   "metadata": {},
   "source": [
    "## Basic"
   ]
  },
  {
   "cell_type": "markdown",
   "metadata": {},
   "source": [
    "### Agenda \n",
    " \n",
    "  - Define a session state\n",
    "  - Initialize a session state\n",
    "  - Read, update and delete"
   ]
  },
  {
   "cell_type": "markdown",
   "metadata": {},
   "source": [
    "**Definition of a session state**\n",
    "\n",
    "A session is Streamlit app running in a browser tab\n",
    "\n",
    " - If we open a new tab: it's a new session\n",
    " - If a user on another conputer runs  the app: it's a new session\n",
    "\n",
    "**Session state**: allow us to share variables between runs for each session"
   ]
  },
  {
   "cell_type": "markdown",
   "metadata": {},
   "source": [
    "### Session state vs cache\n",
    "\n",
    "- The session state persists values across runs for a single session\n",
    "- The cache persists values across runs and session\n",
    "\n",
    "*State: affects a single user in a single session*\n",
    "\n",
    "*Cache: affect all users accross all session and run*"
   ]
  },
  {
   "cell_type": "markdown",
   "metadata": {},
   "source": [
    "### **Initialize the session state**\n",
    "\n",
    "```\n",
    "# Dictionary-like syntax\n",
    "\n",
    "if key not in st.session_state:\n",
    "    st.session_state['key']=value\n",
    "\n",
    "# Attribute syntax\n",
    "\n",
    "if key not in st.session_state:\n",
    "    st.session_state.key=value\n",
    "\n",
    "```"
   ]
  },
  {
   "cell_type": "markdown",
   "metadata": {},
   "source": [
    "### Read \n",
    "\n",
    "```\n",
    "# Dictionary-like syntax\n",
    "st.write(st.session_state['key'])\n",
    "\n",
    "# Attribute syntax\n",
    "st.write(st.session_state.key)\n",
    "\n",
    "```"
   ]
  },
  {
   "cell_type": "markdown",
   "metadata": {},
   "source": [
    "### Update\n",
    "\n",
    "```\n",
    "# Dictionary-like syntax\n",
    "st.session_statep['key']=new_value\n",
    "\n",
    "# Attribute syntext\n",
    "st.session_state_key=new_value\n",
    "```\n"
   ]
  },
  {
   "cell_type": "markdown",
   "metadata": {},
   "source": [
    "### Delete \n",
    "\n",
    "```\n",
    "# Dictionary-like syntex\n",
    "del st.session_state['key']\n",
    "\n",
    "# clear the session state\n",
    "\n",
    "for key in st.session_state.keys():\n",
    "    del st.session_state[key]\n",
    "\n",
    "```"
   ]
  },
  {
   "cell_type": "markdown",
   "metadata": {},
   "source": [
    "## Advance\n"
   ]
  },
  {
   "cell_type": "markdown",
   "metadata": {},
   "source": [
    "### Agenda \n",
    "\n",
    " - Link session state and widgets\n",
    " - Limitations and caveats"
   ]
  },
  {
   "cell_type": "markdown",
   "metadata": {},
   "source": [
    "**Use the key parameter to store a widget's value in the state**\n",
    "\n",
    " ```\n",
    " st.slider(\"select a number\" , 0,10,key=\"slider\")\n",
    "\n",
    " # value of the slider is stored in the session state with the key \"slider\"\n",
    "\n",
    " st.write(st.session_state['slider'])\n",
    " ``` "
   ]
  },
  {
   "cell_type": "markdown",
   "metadata": {},
   "source": [
    "### callback\n",
    " \n",
    " - A callback is Python function that runs when there is an interation with a widget\n",
    " - **Important**: callbacks run first, and then rest of the python file executed\n",
    " - It is possible to pass arguments (args and kwargs) to callback functions\n",
    " - To run a callback, use the on_change or on_click parameter in a widget\n",
    "   \n",
    "   - on_click: works for buttons only \n",
    "   - on_change: for all other widgets that are not buttons\n",
    " - Make sure to define your callback function above the widget declarations"
   ]
  },
  {
   "cell_type": "markdown",
   "metadata": {},
   "source": [
    "### Caveats and limitations\n",
    "\n",
    "**callbacks**\n",
    "\n",
    "- Widgets in a form cannot have callbacks. Only the st.form_submit_button can have a callback\n",
    "- Modifing the value of a widget via the session state after instantiating is forbidden\n",
    "\n",
    "*example*\n",
    "``` \n",
    "# Do not do this !!!\n",
    "st.slider(\"select a number \" , 0,10,value=5,key=\"slider\")\n",
    "\n",
    "st.session_state[\"slider\"]=2\n",
    "```\n",
    "- Initializing a value with session state and using the value parameter will throw a warning\n",
    "*example*\n",
    "``` \n",
    "# Do not do this !!!\n",
    "st.session_state[\"slider\"]=2\n",
    "\n",
    "st.slider(\"select a number \" , 0,10,value=5,key=\"slider\")\n",
    "```\n",
    "- Can't set the state of a button. By deafult, it is False untill click\n",
    "\n",
    "```\n",
    "Don't do this\n",
    "\n",
    "st.session_state['my_btn']=True\n",
    "\n",
    "st.button(\"Button\",key=\"my_btn\")"
   ]
  }
 ],
 "metadata": {
  "language_info": {
   "name": "python"
  }
 },
 "nbformat": 4,
 "nbformat_minor": 2
}
