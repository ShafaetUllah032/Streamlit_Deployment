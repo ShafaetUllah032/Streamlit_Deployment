{
 "cells": [
  {
   "cell_type": "markdown",
   "metadata": {},
   "source": [
    "# <span style = \"color : blue\"> <h2 style=\"text-align: center;\"> State Management in Streamlit</h2> </span>\n",
    " <h3 style=\"text-align: center;\"> Let's GO </h3>"
   ]
  },
  {
   "cell_type": "markdown",
   "metadata": {},
   "source": [
    "## Agenda \n",
    " \n",
    "  - Define a session state\n",
    "  - Initialize a session state\n",
    "  - Read, update and delete"
   ]
  },
  {
   "cell_type": "markdown",
   "metadata": {},
   "source": [
    "**Definition of a session state**\n",
    "\n",
    "A session is Streamlit app running in a browser tab\n",
    "\n",
    " - If we open a new tab: it's a new session\n",
    " - If a user on another conputer runs  the app: it's a new session\n",
    "\n",
    "**Session state**: allow us to share variables between runs for each session"
   ]
  },
  {
   "cell_type": "markdown",
   "metadata": {},
   "source": [
    "## Session state vs cache\n",
    "\n",
    "- The session state persists values across runs for a single session\n",
    "- The cache persists values across runs and session\n",
    "\n",
    "*State: affects a single user in a single session*\n",
    "\n",
    "*Cache: affect all users accross all session and run*"
   ]
  },
  {
   "cell_type": "markdown",
   "metadata": {},
   "source": [
    "## Initialize the session state\n",
    "\n",
    "```\n",
    "# Dictionary-like syntax\n",
    "\n",
    "if key not in st.session_state:\n",
    "    st.session_state['key']=value\n",
    "\n",
    "# Attribute syntax\n",
    "\n",
    "if key not in st.session_state:\n",
    "    st.session_state.key=value\n",
    "\n",
    "```"
   ]
  },
  {
   "cell_type": "markdown",
   "metadata": {},
   "source": [
    "### Read \n",
    "\n",
    "```\n",
    "# Dictionary-like syntax\n",
    "st.write(st.session_state['key'])\n",
    "\n",
    "# Attribute syntax\n",
    "st.write(st.session_state.key)\n",
    "\n",
    "```"
   ]
  },
  {
   "cell_type": "markdown",
   "metadata": {},
   "source": [
    "### Update\n",
    "\n",
    "```\n",
    "# Dictionary-like syntax\n",
    "st.session_statep['key']=new_value\n",
    "\n",
    "# Attribute syntext\n",
    "st.session_state_key=new_value\n",
    "```\n"
   ]
  },
  {
   "cell_type": "markdown",
   "metadata": {},
   "source": [
    "### Delete \n",
    "\n",
    "```\n",
    "# Dictionary-like syntex\n",
    "del st.session_state['key']\n",
    "\n",
    "# clear the session state\n",
    "\n",
    "for key in st.session_state.keys():\n",
    "    del st.session_state[key]\n",
    "\n",
    "```"
   ]
  },
  {
   "cell_type": "markdown",
   "metadata": {},
   "source": []
  }
 ],
 "metadata": {
  "language_info": {
   "name": "python"
  }
 },
 "nbformat": 4,
 "nbformat_minor": 2
}
