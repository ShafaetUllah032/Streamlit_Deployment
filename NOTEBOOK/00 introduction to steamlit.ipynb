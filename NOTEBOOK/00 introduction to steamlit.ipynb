{
 "cells": [
  {
   "cell_type": "markdown",
   "metadata": {},
   "source": [
    "# <span style = \"color : red\"> <h2 style=\"text-align: center;\"> Introduction to Streamlit </h2> </span>\n",
    " <h3 style=\"text-align: center;\"> Overview of Streamlit </h3>"
   ]
  },
  {
   "cell_type": "markdown",
   "metadata": {},
   "source": [
    "## Basic concepts of Streamlit"
   ]
  },
  {
   "cell_type": "markdown",
   "metadata": {},
   "source": [
    "### *Steamlit is an open-source Python library*\n",
    "\n",
    "Allow to create data application: \n",
    "  \n",
    "    * Deploy a machile learning model\n",
    "    * Deploy a dashboard\n",
    "    * Share a data science project\n",
    "    \n",
    "Everything lives in python files"
   ]
  },
  {
   "cell_type": "markdown",
   "metadata": {},
   "source": [
    "### Development flow \n",
    "\n",
    "Having very simple development flow: \n",
    " \n",
    "    * Make changes to your file / update the app\n",
    "    * Save the source fiel\n",
    "    * Streamlit detects if there is a change and ask and display them to the browser\n",
    "\n",
    "Choose `Always rerun` at the top-right of your screen to automatically update your app every time you change its source code."
   ]
  },
  {
   "cell_type": "markdown",
   "metadata": {},
   "source": [
    "### Data flow\n",
    "\n",
    "Streamlit's architecture allows you to write apps the same way you write plain Python scripts. To unlock this, Streamlit apps have a unique data flow: any time something must be updated on the screen, Streamlit reruns your entire Python script from top to bottom.\n",
    "\n",
    "This can happen in two situations:\n",
    "\n",
    "    * Whenever you modify your app's source code.\n",
    "\n",
    "    * Whenever a user interacts with widgets in the app. For example, when dragging a slider, entering text in an input box, or clicking a button.\n",
    "\n",
    "\n",
    "![alt text](<Screenshot 2024-05-08 100325.png>)"
   ]
  },
  {
   "cell_type": "markdown",
   "metadata": {},
   "source": [
    "## Advanced concepts of Streamlit"
   ]
  },
  {
   "cell_type": "markdown",
   "metadata": {},
   "source": [
    "### Caching \n",
    "\n",
    "Caching allows your app to stay performant even when loading data from the web, manipulating large datasets, or performing expensive computations.\n",
    "\n",
    "![alt text](caching-high-level-diagram.png)"
   ]
  },
  {
   "cell_type": "markdown",
   "metadata": {},
   "source": [
    "### Other Key features of Streamlit\n",
    " \n",
    "    * Display text\n",
    "    * Display plot (matplotlib, plotly)\n",
    "    * Interactivity(radio buttons , checkboxes , forms , sliders, etc)\n",
    "    * Multi-page apps\n",
    "    * Stateful apps\n",
    "    * Database connections"
   ]
  },
  {
   "cell_type": "markdown",
   "metadata": {},
   "source": [
    "### What you nned to remember \n",
    "\n",
    "- Streamlit runs Python script from top to bottom\n",
    "- Everytimes the source code changes or a user chages the value of a widget, the script reruns\n",
    "- use caching to avoid running expensive functions all time, so updates are faster\n"
   ]
  },
  {
   "cell_type": "code",
   "execution_count": 2,
   "metadata": {},
   "outputs": [],
   "source": [
    "import streamlit as st"
   ]
  },
  {
   "cell_type": "markdown",
   "metadata": {},
   "source": []
  }
 ],
 "metadata": {
  "kernelspec": {
   "display_name": "streamDev",
   "language": "python",
   "name": "python3"
  },
  "language_info": {
   "codemirror_mode": {
    "name": "ipython",
    "version": 3
   },
   "file_extension": ".py",
   "mimetype": "text/x-python",
   "name": "python",
   "nbconvert_exporter": "python",
   "pygments_lexer": "ipython3",
   "version": "3.10.14"
  }
 },
 "nbformat": 4,
 "nbformat_minor": 2
}
